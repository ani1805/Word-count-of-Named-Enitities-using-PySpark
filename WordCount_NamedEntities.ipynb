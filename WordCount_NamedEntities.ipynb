{
 "cells": [
  {
   "cell_type": "code",
   "execution_count": 0,
   "metadata": {
    "application/vnd.databricks.v1+cell": {
     "cellMetadata": {
      "byteLimit": 2048000,
      "rowLimit": 10000
     },
     "inputWidgets": {},
     "nuid": "12f36520-3e8e-4929-a865-ce10aab21e39",
     "showTitle": false,
     "title": ""
    }
   },
   "outputs": [
    {
     "output_type": "stream",
     "name": "stdout",
     "output_type": "stream",
     "text": [
      "Python interpreter will be restarted.\nCollecting nltk\n  Downloading nltk-3.8.1-py3-none-any.whl (1.5 MB)\nCollecting tqdm\n  Downloading tqdm-4.66.1-py3-none-any.whl (78 kB)\nRequirement already satisfied: click in /databricks/python3/lib/python3.9/site-packages (from nltk) (8.0.4)\nCollecting regex>=2021.8.3\n  Downloading regex-2023.8.8-cp39-cp39-manylinux_2_17_x86_64.manylinux2014_x86_64.whl (771 kB)\nRequirement already satisfied: joblib in /databricks/python3/lib/python3.9/site-packages (from nltk) (1.1.1)\nInstalling collected packages: tqdm, regex, nltk\nSuccessfully installed nltk-3.8.1 regex-2023.8.8 tqdm-4.66.1\nPython interpreter will be restarted.\n"
     ]
    }
   ],
   "source": [
    "pip install nltk"
   ]
  },
  {
   "cell_type": "code",
   "execution_count": 0,
   "metadata": {
    "application/vnd.databricks.v1+cell": {
     "cellMetadata": {
      "byteLimit": 2048000,
      "rowLimit": 10000
     },
     "inputWidgets": {},
     "nuid": "f17553a4-e824-4d45-94b0-6d2d5b013abf",
     "showTitle": false,
     "title": ""
    }
   },
   "outputs": [
    {
     "output_type": "stream",
     "name": "stderr",
     "output_type": "stream",
     "text": [
      "[nltk_data] Downloading package punkt to /root/nltk_data...\n[nltk_data]   Package punkt is already up-to-date!\n[nltk_data] Downloading package stopwords to /root/nltk_data...\n[nltk_data]   Package stopwords is already up-to-date!\n[nltk_data] Downloading collection 'all'\n[nltk_data]    | \n[nltk_data]    | Downloading package abc to /root/nltk_data...\n[nltk_data]    |   Unzipping corpora/abc.zip.\n[nltk_data]    | Downloading package alpino to /root/nltk_data...\n[nltk_data]    |   Unzipping corpora/alpino.zip.\n[nltk_data]    | Downloading package averaged_perceptron_tagger to\n[nltk_data]    |     /root/nltk_data...\n[nltk_data]    |   Unzipping taggers/averaged_perceptron_tagger.zip.\n[nltk_data]    | Downloading package averaged_perceptron_tagger_ru to\n[nltk_data]    |     /root/nltk_data...\n[nltk_data]    |   Unzipping\n[nltk_data]    |       taggers/averaged_perceptron_tagger_ru.zip.\n[nltk_data]    | Downloading package basque_grammars to\n[nltk_data]    |     /root/nltk_data...\n[nltk_data]    |   Unzipping grammars/basque_grammars.zip.\n[nltk_data]    | Downloading package bcp47 to /root/nltk_data...\n[nltk_data]    | Downloading package biocreative_ppi to\n[nltk_data]    |     /root/nltk_data...\n[nltk_data]    |   Unzipping corpora/biocreative_ppi.zip.\n[nltk_data]    | Downloading package bllip_wsj_no_aux to\n[nltk_data]    |     /root/nltk_data...\n[nltk_data]    |   Unzipping models/bllip_wsj_no_aux.zip.\n[nltk_data]    | Downloading package book_grammars to\n[nltk_data]    |     /root/nltk_data...\n[nltk_data]    |   Unzipping grammars/book_grammars.zip.\n[nltk_data]    | Downloading package brown to /root/nltk_data...\n[nltk_data]    |   Unzipping corpora/brown.zip.\n[nltk_data]    | Downloading package brown_tei to /root/nltk_data...\n[nltk_data]    |   Unzipping corpora/brown_tei.zip.\n[nltk_data]    | Downloading package cess_cat to /root/nltk_data...\n[nltk_data]    |   Unzipping corpora/cess_cat.zip.\n[nltk_data]    | Downloading package cess_esp to /root/nltk_data...\n[nltk_data]    |   Unzipping corpora/cess_esp.zip.\n[nltk_data]    | Downloading package chat80 to /root/nltk_data...\n[nltk_data]    |   Unzipping corpora/chat80.zip.\n[nltk_data]    | Downloading package city_database to\n[nltk_data]    |     /root/nltk_data...\n[nltk_data]    |   Unzipping corpora/city_database.zip.\n[nltk_data]    | Downloading package cmudict to /root/nltk_data...\n[nltk_data]    |   Unzipping corpora/cmudict.zip.\n[nltk_data]    | Downloading package comparative_sentences to\n[nltk_data]    |     /root/nltk_data...\n[nltk_data]    |   Unzipping corpora/comparative_sentences.zip.\n[nltk_data]    | Downloading package comtrans to /root/nltk_data...\n[nltk_data]    | Downloading package conll2000 to /root/nltk_data...\n[nltk_data]    |   Unzipping corpora/conll2000.zip.\n[nltk_data]    | Downloading package conll2002 to /root/nltk_data...\n[nltk_data]    |   Unzipping corpora/conll2002.zip.\n[nltk_data]    | Downloading package conll2007 to /root/nltk_data...\n[nltk_data]    | Downloading package crubadan to /root/nltk_data...\n[nltk_data]    |   Unzipping corpora/crubadan.zip.\n[nltk_data]    | Downloading package dependency_treebank to\n[nltk_data]    |     /root/nltk_data...\n[nltk_data]    |   Unzipping corpora/dependency_treebank.zip.\n[nltk_data]    | Downloading package dolch to /root/nltk_data...\n[nltk_data]    |   Unzipping corpora/dolch.zip.\n[nltk_data]    | Downloading package europarl_raw to\n[nltk_data]    |     /root/nltk_data...\n[nltk_data]    |   Unzipping corpora/europarl_raw.zip.\n[nltk_data]    | Downloading package extended_omw to\n[nltk_data]    |     /root/nltk_data...\n[nltk_data]    | Downloading package floresta to /root/nltk_data...\n[nltk_data]    |   Unzipping corpora/floresta.zip.\n[nltk_data]    | Downloading package framenet_v15 to\n[nltk_data]    |     /root/nltk_data...\n[nltk_data]    |   Unzipping corpora/framenet_v15.zip.\n[nltk_data]    | Downloading package framenet_v17 to\n[nltk_data]    |     /root/nltk_data...\n[nltk_data]    |   Unzipping corpora/framenet_v17.zip.\n[nltk_data]    | Downloading package gazetteers to /root/nltk_data...\n[nltk_data]    |   Unzipping corpora/gazetteers.zip.\n[nltk_data]    | Downloading package genesis to /root/nltk_data...\n[nltk_data]    |   Unzipping corpora/genesis.zip.\n[nltk_data]    | Downloading package gutenberg to /root/nltk_data...\n[nltk_data]    |   Unzipping corpora/gutenberg.zip.\n[nltk_data]    | Downloading package ieer to /root/nltk_data...\n[nltk_data]    |   Unzipping corpora/ieer.zip.\n[nltk_data]    | Downloading package inaugural to /root/nltk_data...\n[nltk_data]    |   Unzipping corpora/inaugural.zip.\n[nltk_data]    | Downloading package indian to /root/nltk_data...\n[nltk_data]    |   Unzipping corpora/indian.zip.\n[nltk_data]    | Downloading package jeita to /root/nltk_data...\n[nltk_data]    | Downloading package kimmo to /root/nltk_data...\n[nltk_data]    |   Unzipping corpora/kimmo.zip.\n[nltk_data]    | Downloading package knbc to /root/nltk_data...\n[nltk_data]    | Downloading package large_grammars to\n[nltk_data]    |     /root/nltk_data...\n[nltk_data]    |   Unzipping grammars/large_grammars.zip.\n[nltk_data]    | Downloading package lin_thesaurus to\n[nltk_data]    |     /root/nltk_data...\n[nltk_data]    |   Unzipping corpora/lin_thesaurus.zip.\n[nltk_data]    | Downloading package mac_morpho to /root/nltk_data...\n[nltk_data]    |   Unzipping corpora/mac_morpho.zip.\n[nltk_data]    | Downloading package machado to /root/nltk_data...\n[nltk_data]    | Downloading package masc_tagged to /root/nltk_data...\n[nltk_data]    | Downloading package maxent_ne_chunker to\n[nltk_data]    |     /root/nltk_data...\n[nltk_data]    |   Package maxent_ne_chunker is already up-to-date!\n[nltk_data]    | Downloading package maxent_treebank_pos_tagger to\n[nltk_data]    |     /root/nltk_data...\n[nltk_data]    |   Unzipping taggers/maxent_treebank_pos_tagger.zip.\n[nltk_data]    | Downloading package moses_sample to\n[nltk_data]    |     /root/nltk_data...\n[nltk_data]    |   Unzipping models/moses_sample.zip.\n[nltk_data]    | Downloading package movie_reviews to\n[nltk_data]    |     /root/nltk_data...\n[nltk_data]    |   Unzipping corpora/movie_reviews.zip.\n[nltk_data]    | Downloading package mte_teip5 to /root/nltk_data...\n[nltk_data]    |   Unzipping corpora/mte_teip5.zip.\n[nltk_data]    | Downloading package mwa_ppdb to /root/nltk_data...\n[nltk_data]    |   Unzipping misc/mwa_ppdb.zip.\n[nltk_data]    | Downloading package names to /root/nltk_data...\n[nltk_data]    |   Unzipping corpora/names.zip.\n[nltk_data]    | Downloading package nombank.1.0 to /root/nltk_data...\n[nltk_data]    | Downloading package nonbreaking_prefixes to\n[nltk_data]    |     /root/nltk_data...\n[nltk_data]    |   Unzipping corpora/nonbreaking_prefixes.zip.\n[nltk_data]    | Downloading package nps_chat to /root/nltk_data...\n[nltk_data]    |   Unzipping corpora/nps_chat.zip.\n[nltk_data]    | Downloading package omw to /root/nltk_data...\n[nltk_data]    | Downloading package omw-1.4 to /root/nltk_data...\n[nltk_data]    | Downloading package opinion_lexicon to\n[nltk_data]    |     /root/nltk_data...\n[nltk_data]    |   Unzipping corpora/opinion_lexicon.zip.\n[nltk_data]    | Downloading package panlex_swadesh to\n[nltk_data]    |     /root/nltk_data...\n[nltk_data]    | Downloading package paradigms to /root/nltk_data...\n[nltk_data]    |   Unzipping corpora/paradigms.zip.\n[nltk_data]    | Downloading package pe08 to /root/nltk_data...\n[nltk_data]    |   Unzipping corpora/pe08.zip.\n[nltk_data]    | Downloading package perluniprops to\n[nltk_data]    |     /root/nltk_data...\n[nltk_data]    |   Unzipping misc/perluniprops.zip.\n[nltk_data]    | Downloading package pil to /root/nltk_data...\n[nltk_data]    |   Unzipping corpora/pil.zip.\n[nltk_data]    | Downloading package pl196x to /root/nltk_data...\n[nltk_data]    |   Unzipping corpora/pl196x.zip.\n[nltk_data]    | Downloading package porter_test to /root/nltk_data...\n[nltk_data]    |   Unzipping stemmers/porter_test.zip.\n[nltk_data]    | Downloading package ppattach to /root/nltk_data...\n[nltk_data]    |   Unzipping corpora/ppattach.zip.\n[nltk_data]    | Downloading package problem_reports to\n[nltk_data]    |     /root/nltk_data...\n[nltk_data]    |   Unzipping corpora/problem_reports.zip.\n[nltk_data]    | Downloading package product_reviews_1 to\n[nltk_data]    |     /root/nltk_data...\n[nltk_data]    |   Unzipping corpora/product_reviews_1.zip.\n[nltk_data]    | Downloading package product_reviews_2 to\n[nltk_data]    |     /root/nltk_data...\n[nltk_data]    |   Unzipping corpora/product_reviews_2.zip.\n[nltk_data]    | Downloading package propbank to /root/nltk_data...\n[nltk_data]    | Downloading package pros_cons to /root/nltk_data...\n[nltk_data]    |   Unzipping corpora/pros_cons.zip.\n[nltk_data]    | Downloading package ptb to /root/nltk_data...\n[nltk_data]    |   Unzipping corpora/ptb.zip.\n[nltk_data]    | Downloading package punkt to /root/nltk_data...\n[nltk_data]    |   Package punkt is already up-to-date!\n[nltk_data]    | Downloading package qc to /root/nltk_data...\n[nltk_data]    |   Unzipping corpora/qc.zip.\n[nltk_data]    | Downloading package reuters to /root/nltk_data...\n[nltk_data]    | Downloading package rslp to /root/nltk_data...\n[nltk_data]    |   Unzipping stemmers/rslp.zip.\n[nltk_data]    | Downloading package rte to /root/nltk_data...\n[nltk_data]    |   Unzipping corpora/rte.zip.\n[nltk_data]    | Downloading package sample_grammars to\n[nltk_data]    |     /root/nltk_data...\n[nltk_data]    |   Unzipping grammars/sample_grammars.zip.\n[nltk_data]    | Downloading package semcor to /root/nltk_data...\n[nltk_data]    | Downloading package senseval to /root/nltk_data...\n[nltk_data]    |   Unzipping corpora/senseval.zip.\n[nltk_data]    | Downloading package sentence_polarity to\n[nltk_data]    |     /root/nltk_data...\n[nltk_data]    |   Unzipping corpora/sentence_polarity.zip.\n[nltk_data]    | Downloading package sentiwordnet to\n[nltk_data]    |     /root/nltk_data...\n[nltk_data]    |   Unzipping corpora/sentiwordnet.zip.\n[nltk_data]    | Downloading package shakespeare to /root/nltk_data...\n[nltk_data]    |   Unzipping corpora/shakespeare.zip.\n[nltk_data]    | Downloading package sinica_treebank to\n[nltk_data]    |     /root/nltk_data...\n[nltk_data]    |   Unzipping corpora/sinica_treebank.zip.\n[nltk_data]    | Downloading package smultron to /root/nltk_data...\n[nltk_data]    |   Unzipping corpora/smultron.zip.\n[nltk_data]    | Downloading package snowball_data to\n[nltk_data]    |     /root/nltk_data...\n[nltk_data]    | Downloading package spanish_grammars to\n[nltk_data]    |     /root/nltk_data...\n[nltk_data]    |   Unzipping grammars/spanish_grammars.zip.\n[nltk_data]    | Downloading package state_union to /root/nltk_data...\n[nltk_data]    |   Unzipping corpora/state_union.zip.\n[nltk_data]    | Downloading package stopwords to /root/nltk_data...\n[nltk_data]    |   Package stopwords is already up-to-date!\n[nltk_data]    | Downloading package subjectivity to\n[nltk_data]    |     /root/nltk_data...\n[nltk_data]    |   Unzipping corpora/subjectivity.zip.\n[nltk_data]    | Downloading package swadesh to /root/nltk_data...\n[nltk_data]    |   Unzipping corpora/swadesh.zip.\n[nltk_data]    | Downloading package switchboard to /root/nltk_data...\n[nltk_data]    |   Unzipping corpora/switchboard.zip.\n[nltk_data]    | Downloading package tagsets to /root/nltk_data...\n[nltk_data]    |   Unzipping help/tagsets.zip.\n[nltk_data]    | Downloading package timit to /root/nltk_data...\n[nltk_data]    |   Unzipping corpora/timit.zip.\n[nltk_data]    | Downloading package toolbox to /root/nltk_data...\n[nltk_data]    |   Unzipping corpora/toolbox.zip.\n[nltk_data]    | Downloading package treebank to /root/nltk_data...\n[nltk_data]    |   Unzipping corpora/treebank.zip.\n[nltk_data]    | Downloading package twitter_samples to\n[nltk_data]    |     /root/nltk_data...\n[nltk_data]    |   Unzipping corpora/twitter_samples.zip.\n[nltk_data]    | Downloading package udhr to /root/nltk_data...\n[nltk_data]    |   Unzipping corpora/udhr.zip.\n[nltk_data]    | Downloading package udhr2 to /root/nltk_data...\n[nltk_data]    |   Unzipping corpora/udhr2.zip.\n[nltk_data]    | Downloading package unicode_samples to\n[nltk_data]    |     /root/nltk_data...\n[nltk_data]    |   Unzipping corpora/unicode_samples.zip.\n[nltk_data]    | Downloading package universal_tagset to\n[nltk_data]    |     /root/nltk_data...\n[nltk_data]    |   Unzipping taggers/universal_tagset.zip.\n[nltk_data]    | Downloading package universal_treebanks_v20 to\n[nltk_data]    |     /root/nltk_data...\n[nltk_data]    | Downloading package vader_lexicon to\n[nltk_data]    |     /root/nltk_data...\n[nltk_data]    | Downloading package verbnet to /root/nltk_data...\n[nltk_data]    |   Unzipping corpora/verbnet.zip.\n[nltk_data]    | Downloading package verbnet3 to /root/nltk_data...\n[nltk_data]    |   Unzipping corpora/verbnet3.zip.\n[nltk_data]    | Downloading package webtext to /root/nltk_data...\n[nltk_data]    |   Unzipping corpora/webtext.zip.\n[nltk_data]    | Downloading package wmt15_eval to /root/nltk_data...\n[nltk_data]    |   Unzipping models/wmt15_eval.zip.\n[nltk_data]    | Downloading package word2vec_sample to\n[nltk_data]    |     /root/nltk_data...\n[nltk_data]    |   Unzipping models/word2vec_sample.zip.\n[nltk_data]    | Downloading package wordnet to /root/nltk_data...\n[nltk_data]    | Downloading package wordnet2021 to /root/nltk_data...\n[nltk_data]    | Downloading package wordnet2022 to /root/nltk_data...\n[nltk_data]    |   Unzipping corpora/wordnet2022.zip.\n[nltk_data]    | Downloading package wordnet31 to /root/nltk_data...\n[nltk_data]    | Downloading package wordnet_ic to /root/nltk_data...\n[nltk_data]    |   Unzipping corpora/wordnet_ic.zip.\n[nltk_data]    | Downloading package words to /root/nltk_data...\n[nltk_data]    |   Package words is already up-to-date!\n[nltk_data]    | Downloading package ycoe to /root/nltk_data...\n[nltk_data]    |   Unzipping corpora/ycoe.zip.\n[nltk_data]    | \n[nltk_data]  Done downloading collection all\n"
     ]
    },
    {
     "output_type": "stream",
     "name": "stdout",
     "output_type": "stream",
     "text": [
      "Out[47]: True"
     ]
    }
   ],
   "source": [
    "import nltk\n",
    "nltk.download('punkt')\n",
    "nltk.download('stopwords')\n",
    "#nltk.download('maxent_ne_chunker')\n",
    "#nltk.download('words')\n",
    "nltk.download(\"all\")"
   ]
  },
  {
   "cell_type": "code",
   "execution_count": 0,
   "metadata": {
    "application/vnd.databricks.v1+cell": {
     "cellMetadata": {
      "byteLimit": 2048000,
      "rowLimit": 10000
     },
     "inputWidgets": {},
     "nuid": "646fbce9-ed8e-40bd-85c1-98c441effd88",
     "showTitle": false,
     "title": ""
    }
   },
   "outputs": [],
   "source": [
    "tale_of_two_cities = sc.textFile(\"/FileStore/tables/Tale_of_two_citites.txt\")"
   ]
  },
  {
   "cell_type": "code",
   "execution_count": 0,
   "metadata": {
    "application/vnd.databricks.v1+cell": {
     "cellMetadata": {
      "byteLimit": 2048000,
      "rowLimit": 10000
     },
     "inputWidgets": {},
     "nuid": "492a7f20-1c32-4582-8cbf-3a1d4c23eace",
     "showTitle": false,
     "title": ""
    }
   },
   "outputs": [
    {
     "output_type": "stream",
     "name": "stdout",
     "output_type": "stream",
     "text": [
      "Out[79]: ['The Project Gutenberg eBook of A Tale of Two Cities, by Charles Dickens',\n '',\n 'This eBook is for the use of anyone anywhere in the United States and',\n 'most other parts of the world at no cost and with almost no restrictions',\n 'whatsoever. You may copy it, give it away or re-use it under the terms',\n 'of the Project Gutenberg License included with this eBook or online at',\n 'www.gutenberg.org. If you are not located in the United States, you',\n 'will have to check the laws of the country where you are located before',\n 'using this eBook.',\n '']"
     ]
    }
   ],
   "source": [
    "tale_of_two_cities.take(10)"
   ]
  },
  {
   "cell_type": "code",
   "execution_count": 0,
   "metadata": {
    "application/vnd.databricks.v1+cell": {
     "cellMetadata": {
      "byteLimit": 2048000,
      "rowLimit": 10000
     },
     "inputWidgets": {},
     "nuid": "72c7431a-2b69-4206-bd41-fb0eba4f2243",
     "showTitle": false,
     "title": ""
    }
   },
   "outputs": [],
   "source": [
    "tale_of_two_cities_words=tale_of_two_cities.flatMap(lambda x:x.split(\" \"))"
   ]
  },
  {
   "cell_type": "code",
   "execution_count": 0,
   "metadata": {
    "application/vnd.databricks.v1+cell": {
     "cellMetadata": {
      "byteLimit": 2048000,
      "rowLimit": 10000
     },
     "inputWidgets": {},
     "nuid": "9b8ba808-7a5f-4555-9a2a-cb95ffb639a4",
     "showTitle": false,
     "title": ""
    }
   },
   "outputs": [
    {
     "output_type": "stream",
     "name": "stdout",
     "output_type": "stream",
     "text": [
      "Out[81]: ['The',\n 'Project',\n 'Gutenberg',\n 'eBook',\n 'of',\n 'A',\n 'Tale',\n 'of',\n 'Two',\n 'Cities,',\n 'by',\n 'Charles',\n 'Dickens',\n '',\n 'This',\n 'eBook',\n 'is',\n 'for',\n 'the',\n 'use',\n 'of',\n 'anyone',\n 'anywhere',\n 'in',\n 'the',\n 'United',\n 'States',\n 'and',\n 'most',\n 'other',\n 'parts',\n 'of',\n 'the',\n 'world',\n 'at',\n 'no',\n 'cost',\n 'and',\n 'with',\n 'almost',\n 'no',\n 'restrictions',\n 'whatsoever.',\n 'You',\n 'may',\n 'copy',\n 'it,',\n 'give',\n 'it',\n 'away',\n 'or',\n 're-use',\n 'it',\n 'under',\n 'the',\n 'terms',\n 'of',\n 'the',\n 'Project',\n 'Gutenberg',\n 'License',\n 'included',\n 'with',\n 'this',\n 'eBook',\n 'or',\n 'online',\n 'at',\n 'www.gutenberg.org.',\n 'If',\n 'you',\n 'are',\n 'not',\n 'located',\n 'in',\n 'the',\n 'United',\n 'States,',\n 'you',\n 'will',\n 'have',\n 'to',\n 'check',\n 'the',\n 'laws',\n 'of',\n 'the',\n 'country',\n 'where',\n 'you',\n 'are',\n 'located',\n 'before',\n 'using',\n 'this',\n 'eBook.',\n '',\n 'Title:',\n 'A',\n 'Tale',\n 'of',\n 'Two',\n 'Cities',\n '',\n '',\n '',\n '',\n '',\n '',\n '',\n 'A',\n 'Story',\n 'of',\n 'the',\n 'French',\n 'Revolution',\n '',\n 'Author:',\n 'Charles',\n 'Dickens',\n '',\n 'Release',\n 'Date:',\n 'January,',\n '1994',\n '[eBook',\n '#98]',\n '[Most',\n 'recently',\n 'updated:',\n 'December',\n '20,',\n '2020]',\n '',\n 'Language:',\n 'English',\n '',\n 'Character',\n 'set',\n 'encoding:',\n 'UTF-8',\n '',\n 'Produced',\n 'by:',\n 'Judith',\n 'Boss',\n 'and',\n 'David',\n 'Widger',\n '',\n '***',\n 'START',\n 'OF',\n 'THE',\n 'PROJECT',\n 'GUTENBERG',\n 'EBOOK',\n 'A',\n 'TALE',\n 'OF',\n 'TWO',\n 'CITIES',\n '***',\n '',\n '',\n '',\n '',\n 'A',\n 'TALE',\n 'OF',\n 'TWO',\n 'CITIES',\n '',\n 'A',\n 'STORY',\n 'OF',\n 'THE',\n 'FRENCH',\n 'REVOLUTION',\n '',\n 'By',\n 'Charles',\n 'Dickens',\n '',\n '',\n 'CONTENTS',\n '',\n '',\n '',\n '',\n '',\n '',\n '',\n 'Book',\n 'the',\n 'First--Recalled',\n 'to',\n 'Life',\n '',\n '',\n '',\n '',\n '',\n '',\n 'CHAPTER',\n 'I',\n '',\n '',\n '',\n '',\n '',\n 'The',\n 'Period',\n '',\n '',\n '',\n '',\n '',\n 'CHAPTER',\n 'II',\n '',\n '',\n '',\n '',\n 'The',\n 'Mail',\n '',\n '',\n '',\n '',\n '',\n 'CHAPTER',\n 'III',\n '',\n '',\n '',\n 'The',\n 'Night',\n 'Shadows',\n '',\n '',\n '',\n '',\n '',\n 'CHAPTER',\n 'IV',\n '',\n '',\n '',\n '',\n 'The',\n 'Preparation',\n '',\n '',\n '',\n '',\n '',\n 'CHAPTER',\n 'V',\n '',\n '',\n '',\n '',\n '',\n 'The',\n 'Wine-shop',\n '',\n '',\n '',\n '',\n '',\n 'CHAPTER',\n 'VI',\n '',\n '',\n '',\n '',\n 'The',\n 'Shoemaker',\n '',\n '',\n '',\n '',\n '',\n '',\n '',\n 'Book',\n 'the',\n 'Second--the',\n 'Golden',\n 'Thread',\n '',\n '',\n '',\n '',\n '',\n '',\n 'CHAPTER',\n 'I',\n '',\n '',\n '',\n '',\n '',\n 'Five',\n 'Years',\n 'Later',\n '',\n '',\n '',\n '',\n '',\n 'CHAPTER',\n 'II',\n '',\n '',\n '',\n '',\n 'A',\n 'Sight',\n '',\n '',\n '',\n '',\n '',\n 'CHAPTER',\n 'III',\n '',\n '',\n '',\n 'A',\n 'Disappointment',\n '',\n '',\n '',\n '',\n '',\n 'CHAPTER',\n 'IV',\n '',\n '',\n '',\n '',\n 'Congratulatory',\n '',\n '',\n '',\n '',\n '',\n 'CHAPTER',\n 'V',\n '',\n '',\n '',\n '',\n '',\n 'The',\n 'Jackal',\n '',\n '',\n '',\n '',\n '',\n 'CHAPTER',\n 'VI',\n '',\n '',\n '',\n '',\n 'Hundreds',\n 'of',\n 'People',\n '',\n '',\n '',\n '',\n '',\n 'CHAPTER',\n 'VII',\n '',\n '',\n '',\n 'Monseigneur',\n 'in',\n 'Town',\n '',\n '',\n '',\n '',\n '',\n 'CHAPTER',\n 'VIII',\n '',\n '',\n 'Monseigneur',\n 'in',\n 'the',\n 'Country',\n '',\n '',\n '',\n '',\n '',\n 'CHAPTER',\n 'IX',\n '',\n '',\n '',\n '',\n 'The',\n 'Gorgon’s',\n 'Head',\n '',\n '',\n '',\n '',\n '',\n 'CHAPTER',\n 'X',\n '',\n '',\n '',\n '',\n '',\n 'Two',\n 'Promises',\n '',\n '',\n '',\n '',\n '',\n 'CHAPTER',\n 'XI',\n '',\n '',\n '',\n '',\n 'A',\n 'Companion',\n 'Picture',\n '',\n '',\n '',\n '',\n '',\n 'CHAPTER',\n 'XII',\n '',\n '',\n '',\n 'The',\n 'Fellow',\n 'of',\n 'Delicacy',\n '',\n '',\n '',\n '',\n '',\n 'CHAPTER',\n 'XIII',\n '',\n '',\n 'The',\n 'Fellow',\n 'of',\n 'no',\n 'Delicacy',\n '',\n '',\n '',\n '',\n '',\n 'CHAPTER',\n 'XIV',\n '',\n '',\n '',\n 'The',\n 'Honest',\n 'Tradesman',\n '',\n '',\n '',\n '',\n '',\n 'CHAPTER',\n 'XV',\n '',\n '',\n '',\n '',\n 'Knitting',\n '',\n '',\n '',\n '',\n '',\n 'CHAPTER',\n 'XVI',\n '',\n '',\n '',\n 'Still',\n 'Knitting',\n '',\n '',\n '',\n '',\n '',\n 'CHAPTER',\n 'XVII',\n '',\n '',\n 'One',\n 'Night',\n '',\n '',\n '',\n '',\n '',\n 'CHAPTER',\n 'XVIII',\n '',\n 'Nine',\n 'Days',\n '',\n '',\n '',\n '',\n '',\n 'CHAPTER',\n 'XIX',\n '',\n '',\n '',\n 'An',\n 'Opinion',\n '',\n '',\n '',\n '',\n '',\n 'CHAPTER',\n 'XX',\n '',\n '',\n '',\n '',\n 'A',\n 'Plea',\n '',\n '',\n '',\n '',\n '',\n 'CHAPTER',\n 'XXI',\n '',\n '',\n '',\n 'Echoing',\n 'Footsteps',\n '',\n '',\n '',\n '',\n '',\n 'CHAPTER',\n 'XXII',\n '',\n '',\n 'The',\n 'Sea',\n 'Still',\n 'Rises',\n '',\n '',\n '',\n '',\n '',\n 'CHAPTER',\n 'XXIII',\n '',\n 'Fire',\n 'Rises',\n '',\n '',\n '',\n '',\n '',\n 'CHAPTER',\n 'XXIV',\n '',\n '',\n 'Drawn',\n 'to',\n 'the',\n 'Loadstone',\n 'Rock',\n '',\n '',\n '',\n '',\n '',\n '',\n '',\n 'Book',\n 'the',\n 'Third--the',\n 'Track',\n 'of',\n 'a',\n 'Storm',\n '',\n '',\n '',\n '',\n '',\n '',\n 'CHAPTER',\n 'I',\n '',\n '',\n '',\n '',\n '',\n 'In',\n 'Secret',\n '',\n '',\n '',\n '',\n '',\n 'CHAPTER',\n 'II',\n '',\n '',\n '',\n '',\n 'The',\n 'Grindstone',\n '',\n '',\n '',\n '',\n '',\n 'CHAPTER',\n 'III',\n '',\n '',\n '',\n 'The',\n 'Shadow',\n '',\n '',\n '',\n '',\n '',\n 'CHAPTER',\n 'IV',\n '',\n '',\n '',\n '',\n 'Calm',\n 'in',\n 'Storm',\n '',\n '',\n '',\n '',\n '',\n 'CHAPTER',\n 'V',\n '',\n '',\n '',\n '',\n '',\n 'The',\n 'Wood-sawyer',\n '',\n '',\n '',\n '',\n '',\n 'CHAPTER',\n 'VI',\n '',\n '',\n '',\n '',\n 'Triumph',\n '',\n '',\n '',\n '',\n '',\n 'CHAPTER',\n 'VII',\n '',\n '',\n '',\n 'A',\n 'Knock',\n 'at',\n 'the',\n 'Door',\n '',\n '',\n '',\n '',\n '',\n 'CHAPTER',\n 'VIII',\n '',\n '',\n 'A',\n 'Hand',\n 'at',\n 'Cards',\n '',\n '',\n '',\n '',\n '',\n 'CHAPTER',\n 'IX',\n '',\n '',\n '',\n '',\n 'The',\n 'Game',\n 'Made',\n '',\n '',\n '',\n '',\n '',\n 'CHAPTER',\n 'X',\n '',\n '',\n '',\n '',\n '',\n 'The',\n 'Substance',\n 'of',\n 'the',\n 'Shadow',\n '',\n '',\n '',\n '',\n '',\n 'CHAPTER',\n 'XI',\n '',\n '',\n '',\n '',\n 'Dusk',\n '',\n '',\n '',\n '',\n '',\n 'CHAPTER',\n 'XII',\n '',\n '',\n '',\n 'Darkness',\n '',\n '',\n '',\n '',\n '',\n 'CHAPTER',\n 'XIII',\n '',\n '',\n 'Fifty-two',\n '',\n '',\n '',\n '',\n '',\n 'CHAPTER',\n 'XIV',\n '',\n '',\n '',\n 'The',\n 'Knitting',\n 'Done',\n '',\n '',\n '',\n '',\n '',\n 'CHAPTER',\n 'XV',\n '',\n '',\n '',\n '',\n 'The',\n 'Footsteps',\n 'Die',\n 'Out',\n 'For',\n 'Ever',\n '',\n '',\n '',\n '',\n '',\n 'Book',\n 'the',\n 'First--Recalled',\n 'to',\n 'Life',\n '',\n '',\n '',\n '',\n 'CHAPTER',\n 'I.',\n 'The',\n 'Period',\n '',\n '',\n 'It',\n 'was',\n 'the',\n 'best',\n 'of',\n 'times,',\n 'it',\n 'was',\n 'the',\n 'worst',\n 'of',\n 'times,',\n 'it',\n 'was',\n 'the',\n 'age',\n 'of',\n 'wisdom,',\n 'it',\n 'was',\n 'the',\n 'age',\n 'of',\n 'foolishness,',\n 'it',\n 'was',\n 'the',\n 'epoch',\n 'of',\n 'belief,',\n 'it',\n 'was',\n 'the',\n 'epoch',\n 'of',\n 'incredulity,',\n 'it',\n 'was',\n 'the',\n 'season',\n 'of',\n 'Light,',\n 'it',\n 'was',\n 'the',\n 'season',\n 'of',\n 'Darkness,',\n 'it',\n 'was',\n 'the',\n 'spring',\n 'of',\n 'hope,',\n 'it',\n 'was',\n 'the',\n 'winter',\n 'of',\n 'despair,',\n 'we',\n 'had',\n 'everything',\n 'before',\n 'us,',\n 'we',\n 'had',\n 'nothing',\n 'before',\n 'us,',\n 'we',\n 'were',\n 'all',\n 'going',\n 'direct',\n 'to',\n 'Heaven,',\n 'we',\n 'were',\n 'all',\n 'going',\n 'direct',\n 'the',\n 'other',\n 'way--in',\n 'short,',\n 'the',\n 'period',\n 'was',\n 'so',\n 'far',\n 'like',\n 'the',\n 'present',\n 'period,',\n 'that',\n 'some',\n 'of',\n 'its',\n 'noisiest',\n 'authorities',\n 'insisted',\n 'on',\n 'its',\n 'being',\n 'received,',\n 'for',\n 'good',\n 'or',\n 'for',\n 'evil,',\n 'in',\n 'the',\n 'superlative',\n 'degree',\n 'of',\n 'comparison',\n 'only.',\n '',\n 'There',\n 'were',\n 'a',\n 'king',\n 'with',\n 'a',\n 'large',\n 'jaw',\n 'and',\n 'a',\n 'queen',\n 'with',\n 'a',\n 'plain',\n 'face,',\n 'on',\n 'the',\n 'throne',\n 'of',\n 'England;',\n 'there',\n 'were',\n 'a',\n 'king',\n 'with',\n 'a',\n 'large',\n 'jaw',\n 'and',\n 'a',\n 'queen',\n 'with',\n 'a',\n 'fair',\n 'face,',\n 'on',\n 'the',\n 'throne',\n 'of',\n 'France.',\n 'In',\n 'both',\n 'countries',\n 'it',\n 'was',\n ...]"
     ]
    }
   ],
   "source": [
    "tale_of_two_cities_words.collect()"
   ]
  },
  {
   "cell_type": "code",
   "execution_count": 0,
   "metadata": {
    "application/vnd.databricks.v1+cell": {
     "cellMetadata": {
      "byteLimit": 2048000,
      "rowLimit": 10000
     },
     "inputWidgets": {},
     "nuid": "61dc79d5-dd10-4564-8494-8a3129144ef2",
     "showTitle": false,
     "title": ""
    }
   },
   "outputs": [],
   "source": [
    "tale_of_two_cities_no_space=tale_of_two_cities_words.filter(lambda x:len(x)>0)"
   ]
  },
  {
   "cell_type": "code",
   "execution_count": 0,
   "metadata": {
    "application/vnd.databricks.v1+cell": {
     "cellMetadata": {
      "byteLimit": 2048000,
      "rowLimit": 10000
     },
     "inputWidgets": {},
     "nuid": "d5315cef-232e-4fea-874d-78ef1c9bbdff",
     "showTitle": false,
     "title": ""
    }
   },
   "outputs": [
    {
     "output_type": "stream",
     "name": "stdout",
     "output_type": "stream",
     "text": [
      "Out[83]: ['The',\n 'Project',\n 'Gutenberg',\n 'eBook',\n 'of',\n 'A',\n 'Tale',\n 'of',\n 'Two',\n 'Cities,',\n 'by',\n 'Charles',\n 'Dickens',\n 'This',\n 'eBook',\n 'is',\n 'for',\n 'the',\n 'use',\n 'of',\n 'anyone',\n 'anywhere',\n 'in',\n 'the',\n 'United',\n 'States',\n 'and',\n 'most',\n 'other',\n 'parts',\n 'of',\n 'the',\n 'world',\n 'at',\n 'no',\n 'cost',\n 'and',\n 'with',\n 'almost',\n 'no',\n 'restrictions',\n 'whatsoever.',\n 'You',\n 'may',\n 'copy',\n 'it,',\n 'give',\n 'it',\n 'away',\n 'or',\n 're-use',\n 'it',\n 'under',\n 'the',\n 'terms',\n 'of',\n 'the',\n 'Project',\n 'Gutenberg',\n 'License',\n 'included',\n 'with',\n 'this',\n 'eBook',\n 'or',\n 'online',\n 'at',\n 'www.gutenberg.org.',\n 'If',\n 'you',\n 'are',\n 'not',\n 'located',\n 'in',\n 'the',\n 'United',\n 'States,',\n 'you',\n 'will',\n 'have',\n 'to',\n 'check',\n 'the',\n 'laws',\n 'of',\n 'the',\n 'country',\n 'where',\n 'you',\n 'are',\n 'located',\n 'before',\n 'using',\n 'this',\n 'eBook.',\n 'Title:',\n 'A',\n 'Tale',\n 'of',\n 'Two',\n 'Cities',\n 'A',\n 'Story',\n 'of',\n 'the',\n 'French',\n 'Revolution',\n 'Author:',\n 'Charles',\n 'Dickens',\n 'Release',\n 'Date:',\n 'January,',\n '1994',\n '[eBook',\n '#98]',\n '[Most',\n 'recently',\n 'updated:',\n 'December',\n '20,',\n '2020]',\n 'Language:',\n 'English',\n 'Character',\n 'set',\n 'encoding:',\n 'UTF-8',\n 'Produced',\n 'by:',\n 'Judith',\n 'Boss',\n 'and',\n 'David',\n 'Widger',\n '***',\n 'START',\n 'OF',\n 'THE',\n 'PROJECT',\n 'GUTENBERG',\n 'EBOOK',\n 'A',\n 'TALE',\n 'OF',\n 'TWO',\n 'CITIES',\n '***',\n 'A',\n 'TALE',\n 'OF',\n 'TWO',\n 'CITIES',\n 'A',\n 'STORY',\n 'OF',\n 'THE',\n 'FRENCH',\n 'REVOLUTION',\n 'By',\n 'Charles',\n 'Dickens',\n 'CONTENTS',\n 'Book',\n 'the',\n 'First--Recalled',\n 'to',\n 'Life',\n 'CHAPTER',\n 'I',\n 'The',\n 'Period',\n 'CHAPTER',\n 'II',\n 'The',\n 'Mail',\n 'CHAPTER',\n 'III',\n 'The',\n 'Night',\n 'Shadows',\n 'CHAPTER',\n 'IV',\n 'The',\n 'Preparation',\n 'CHAPTER',\n 'V',\n 'The',\n 'Wine-shop',\n 'CHAPTER',\n 'VI',\n 'The',\n 'Shoemaker',\n 'Book',\n 'the',\n 'Second--the',\n 'Golden',\n 'Thread',\n 'CHAPTER',\n 'I',\n 'Five',\n 'Years',\n 'Later',\n 'CHAPTER',\n 'II',\n 'A',\n 'Sight',\n 'CHAPTER',\n 'III',\n 'A',\n 'Disappointment',\n 'CHAPTER',\n 'IV',\n 'Congratulatory',\n 'CHAPTER',\n 'V',\n 'The',\n 'Jackal',\n 'CHAPTER',\n 'VI',\n 'Hundreds',\n 'of',\n 'People',\n 'CHAPTER',\n 'VII',\n 'Monseigneur',\n 'in',\n 'Town',\n 'CHAPTER',\n 'VIII',\n 'Monseigneur',\n 'in',\n 'the',\n 'Country',\n 'CHAPTER',\n 'IX',\n 'The',\n 'Gorgon’s',\n 'Head',\n 'CHAPTER',\n 'X',\n 'Two',\n 'Promises',\n 'CHAPTER',\n 'XI',\n 'A',\n 'Companion',\n 'Picture',\n 'CHAPTER',\n 'XII',\n 'The',\n 'Fellow',\n 'of',\n 'Delicacy',\n 'CHAPTER',\n 'XIII',\n 'The',\n 'Fellow',\n 'of',\n 'no',\n 'Delicacy',\n 'CHAPTER',\n 'XIV',\n 'The',\n 'Honest',\n 'Tradesman',\n 'CHAPTER',\n 'XV',\n 'Knitting',\n 'CHAPTER',\n 'XVI',\n 'Still',\n 'Knitting',\n 'CHAPTER',\n 'XVII',\n 'One',\n 'Night',\n 'CHAPTER',\n 'XVIII',\n 'Nine',\n 'Days',\n 'CHAPTER',\n 'XIX',\n 'An',\n 'Opinion',\n 'CHAPTER',\n 'XX',\n 'A',\n 'Plea',\n 'CHAPTER',\n 'XXI',\n 'Echoing',\n 'Footsteps',\n 'CHAPTER',\n 'XXII',\n 'The',\n 'Sea',\n 'Still',\n 'Rises',\n 'CHAPTER',\n 'XXIII',\n 'Fire',\n 'Rises',\n 'CHAPTER',\n 'XXIV',\n 'Drawn',\n 'to',\n 'the',\n 'Loadstone',\n 'Rock',\n 'Book',\n 'the',\n 'Third--the',\n 'Track',\n 'of',\n 'a',\n 'Storm',\n 'CHAPTER',\n 'I',\n 'In',\n 'Secret',\n 'CHAPTER',\n 'II',\n 'The',\n 'Grindstone',\n 'CHAPTER',\n 'III',\n 'The',\n 'Shadow',\n 'CHAPTER',\n 'IV',\n 'Calm',\n 'in',\n 'Storm',\n 'CHAPTER',\n 'V',\n 'The',\n 'Wood-sawyer',\n 'CHAPTER',\n 'VI',\n 'Triumph',\n 'CHAPTER',\n 'VII',\n 'A',\n 'Knock',\n 'at',\n 'the',\n 'Door',\n 'CHAPTER',\n 'VIII',\n 'A',\n 'Hand',\n 'at',\n 'Cards',\n 'CHAPTER',\n 'IX',\n 'The',\n 'Game',\n 'Made',\n 'CHAPTER',\n 'X',\n 'The',\n 'Substance',\n 'of',\n 'the',\n 'Shadow',\n 'CHAPTER',\n 'XI',\n 'Dusk',\n 'CHAPTER',\n 'XII',\n 'Darkness',\n 'CHAPTER',\n 'XIII',\n 'Fifty-two',\n 'CHAPTER',\n 'XIV',\n 'The',\n 'Knitting',\n 'Done',\n 'CHAPTER',\n 'XV',\n 'The',\n 'Footsteps',\n 'Die',\n 'Out',\n 'For',\n 'Ever',\n 'Book',\n 'the',\n 'First--Recalled',\n 'to',\n 'Life',\n 'CHAPTER',\n 'I.',\n 'The',\n 'Period',\n 'It',\n 'was',\n 'the',\n 'best',\n 'of',\n 'times,',\n 'it',\n 'was',\n 'the',\n 'worst',\n 'of',\n 'times,',\n 'it',\n 'was',\n 'the',\n 'age',\n 'of',\n 'wisdom,',\n 'it',\n 'was',\n 'the',\n 'age',\n 'of',\n 'foolishness,',\n 'it',\n 'was',\n 'the',\n 'epoch',\n 'of',\n 'belief,',\n 'it',\n 'was',\n 'the',\n 'epoch',\n 'of',\n 'incredulity,',\n 'it',\n 'was',\n 'the',\n 'season',\n 'of',\n 'Light,',\n 'it',\n 'was',\n 'the',\n 'season',\n 'of',\n 'Darkness,',\n 'it',\n 'was',\n 'the',\n 'spring',\n 'of',\n 'hope,',\n 'it',\n 'was',\n 'the',\n 'winter',\n 'of',\n 'despair,',\n 'we',\n 'had',\n 'everything',\n 'before',\n 'us,',\n 'we',\n 'had',\n 'nothing',\n 'before',\n 'us,',\n 'we',\n 'were',\n 'all',\n 'going',\n 'direct',\n 'to',\n 'Heaven,',\n 'we',\n 'were',\n 'all',\n 'going',\n 'direct',\n 'the',\n 'other',\n 'way--in',\n 'short,',\n 'the',\n 'period',\n 'was',\n 'so',\n 'far',\n 'like',\n 'the',\n 'present',\n 'period,',\n 'that',\n 'some',\n 'of',\n 'its',\n 'noisiest',\n 'authorities',\n 'insisted',\n 'on',\n 'its',\n 'being',\n 'received,',\n 'for',\n 'good',\n 'or',\n 'for',\n 'evil,',\n 'in',\n 'the',\n 'superlative',\n 'degree',\n 'of',\n 'comparison',\n 'only.',\n 'There',\n 'were',\n 'a',\n 'king',\n 'with',\n 'a',\n 'large',\n 'jaw',\n 'and',\n 'a',\n 'queen',\n 'with',\n 'a',\n 'plain',\n 'face,',\n 'on',\n 'the',\n 'throne',\n 'of',\n 'England;',\n 'there',\n 'were',\n 'a',\n 'king',\n 'with',\n 'a',\n 'large',\n 'jaw',\n 'and',\n 'a',\n 'queen',\n 'with',\n 'a',\n 'fair',\n 'face,',\n 'on',\n 'the',\n 'throne',\n 'of',\n 'France.',\n 'In',\n 'both',\n 'countries',\n 'it',\n 'was',\n 'clearer',\n 'than',\n 'crystal',\n 'to',\n 'the',\n 'lords',\n 'of',\n 'the',\n 'State',\n 'preserves',\n 'of',\n 'loaves',\n 'and',\n 'fishes,',\n 'that',\n 'things',\n 'in',\n 'general',\n 'were',\n 'settled',\n 'for',\n 'ever.',\n 'It',\n 'was',\n 'the',\n 'year',\n 'of',\n 'Our',\n 'Lord',\n 'one',\n 'thousand',\n 'seven',\n 'hundred',\n 'and',\n 'seventy-five.',\n 'Spiritual',\n 'revelations',\n 'were',\n 'conceded',\n 'to',\n 'England',\n 'at',\n 'that',\n 'favoured',\n 'period,',\n 'as',\n 'at',\n 'this.',\n 'Mrs.',\n 'Southcott',\n 'had',\n 'recently',\n 'attained',\n 'her',\n 'five-and-twentieth',\n 'blessed',\n 'birthday,',\n 'of',\n 'whom',\n 'a',\n 'prophetic',\n 'private',\n 'in',\n 'the',\n 'Life',\n 'Guards',\n 'had',\n 'heralded',\n 'the',\n 'sublime',\n 'appearance',\n 'by',\n 'announcing',\n 'that',\n 'arrangements',\n 'were',\n 'made',\n 'for',\n 'the',\n 'swallowing',\n 'up',\n 'of',\n 'London',\n 'and',\n 'Westminster.',\n 'Even',\n 'the',\n 'Cock-lane',\n 'ghost',\n 'had',\n 'been',\n 'laid',\n 'only',\n 'a',\n 'round',\n 'dozen',\n 'of',\n 'years,',\n 'after',\n 'rapping',\n 'out',\n 'its',\n 'messages,',\n 'as',\n 'the',\n 'spirits',\n 'of',\n 'this',\n 'very',\n 'year',\n 'last',\n 'past',\n '(supernaturally',\n 'deficient',\n 'in',\n 'originality)',\n 'rapped',\n 'out',\n 'theirs.',\n 'Mere',\n 'messages',\n 'in',\n 'the',\n 'earthly',\n 'order',\n 'of',\n 'events',\n 'had',\n 'lately',\n 'come',\n 'to',\n 'the',\n 'English',\n 'Crown',\n 'and',\n 'People,',\n 'from',\n 'a',\n 'congress',\n 'of',\n 'British',\n 'subjects',\n 'in',\n 'America:',\n 'which,',\n 'strange',\n 'to',\n 'relate,',\n 'have',\n 'proved',\n 'more',\n 'important',\n 'to',\n 'the',\n 'human',\n 'race',\n 'than',\n 'any',\n 'communications',\n 'yet',\n 'received',\n 'through',\n 'any',\n 'of',\n 'the',\n 'chickens',\n 'of',\n 'the',\n 'Cock-lane',\n 'brood.',\n 'France,',\n 'less',\n 'favoured',\n 'on',\n 'the',\n 'whole',\n 'as',\n 'to',\n 'matters',\n 'spiritual',\n 'than',\n 'her',\n 'sister',\n 'of',\n 'the',\n 'shield',\n 'and',\n 'trident,',\n 'rolled',\n 'with',\n 'exceeding',\n 'smoothness',\n 'down',\n 'hill,',\n 'making',\n 'paper',\n 'money',\n 'and',\n 'spending',\n 'it.',\n 'Under',\n 'the',\n 'guidance',\n 'of',\n 'her',\n 'Christian',\n 'pastors,',\n 'she',\n 'entertained',\n 'herself,',\n 'besides,',\n 'with',\n 'such',\n 'humane',\n 'achievements',\n 'as',\n 'sentencing',\n 'a',\n 'youth',\n 'to',\n 'have',\n 'his',\n 'hands',\n 'cut',\n 'off,',\n 'his',\n 'tongue',\n 'torn',\n 'out',\n 'with',\n 'pincers,',\n 'and',\n 'his',\n 'body',\n 'burned',\n 'alive,',\n 'because',\n 'he',\n 'had',\n 'not',\n 'kneeled',\n 'down',\n 'in',\n 'the',\n 'rain',\n 'to',\n 'do',\n 'honour',\n 'to',\n 'a',\n 'dirty',\n 'procession',\n 'of',\n 'monks',\n 'which',\n 'passed',\n 'within',\n 'his',\n 'view,',\n 'at',\n 'a',\n 'distance',\n 'of',\n 'some',\n 'fifty',\n 'or',\n 'sixty',\n 'yards.',\n 'It',\n 'is',\n 'likely',\n 'enough',\n 'that,',\n 'rooted',\n 'in',\n 'the',\n 'woods',\n 'of',\n 'France',\n 'and',\n 'Norway,',\n 'there',\n 'were',\n 'growing',\n 'trees,',\n 'when',\n 'that',\n 'sufferer',\n 'was',\n 'put',\n 'to',\n 'death,',\n 'already',\n 'marked',\n 'by',\n 'the',\n 'Woodman,',\n 'Fate,',\n 'to',\n 'come',\n 'down',\n 'and',\n 'be',\n 'sawn',\n 'into',\n 'boards,',\n 'to',\n 'make',\n 'a',\n 'certain',\n 'movable',\n 'framework',\n 'with',\n 'a',\n 'sack',\n 'and',\n 'a',\n 'knife',\n 'in',\n 'it,',\n 'terrible',\n 'in',\n 'history.',\n 'It',\n 'is',\n 'likely',\n 'enough',\n 'that',\n 'in',\n 'the',\n 'rough',\n 'outhouses',\n 'of',\n 'some',\n 'tillers',\n 'of',\n 'the',\n 'heavy',\n 'lands',\n 'adjacent',\n 'to',\n 'Paris,',\n 'there',\n 'were',\n 'sheltered',\n 'from',\n 'the',\n 'weather',\n 'that',\n 'very',\n 'day,',\n 'rude',\n 'carts,',\n 'bespattered',\n 'with',\n 'rustic',\n 'mire,',\n 'snuffed',\n 'about',\n 'by',\n 'pigs,',\n 'and',\n 'roosted',\n 'in',\n 'by',\n 'poultry,',\n 'which',\n 'the',\n 'Farmer,',\n 'Death,',\n 'had',\n 'already',\n 'set',\n 'apart',\n 'to',\n 'be',\n 'his',\n 'tumbrils',\n 'of',\n 'the',\n 'Revolution.',\n 'But',\n 'that',\n 'Woodman',\n 'and',\n 'that',\n 'Farmer,',\n 'though',\n 'they',\n 'work',\n 'unceasingly,',\n 'work',\n 'silently,',\n 'and',\n 'no',\n 'one',\n 'heard',\n 'them',\n 'as',\n 'they',\n 'went',\n 'about',\n 'with',\n 'muffled',\n 'tread:',\n 'the',\n 'rather,',\n 'forasmuch',\n 'as',\n 'to',\n 'entertain',\n 'any',\n 'suspicion',\n 'that',\n 'they',\n 'were',\n 'awake,',\n 'was',\n 'to',\n 'be',\n 'atheistical',\n 'and',\n 'traitorous.',\n 'In',\n 'England,',\n 'there',\n 'was',\n 'scarcely',\n 'an',\n 'amount',\n 'of',\n 'order',\n 'and',\n 'protection',\n 'to',\n 'justify',\n 'much',\n 'national',\n 'boasting.',\n 'Daring',\n ...]"
     ]
    }
   ],
   "source": [
    "tale_of_two_cities_no_space.collect()"
   ]
  },
  {
   "cell_type": "code",
   "execution_count": 0,
   "metadata": {
    "application/vnd.databricks.v1+cell": {
     "cellMetadata": {
      "byteLimit": 2048000,
      "rowLimit": 10000
     },
     "inputWidgets": {},
     "nuid": "a2ddc9e9-ef7a-4425-a90b-f062cb9f598c",
     "showTitle": false,
     "title": ""
    }
   },
   "outputs": [],
   "source": [
    "from nltk.corpus import stopwords\n",
    "from nltk.tag import pos_tag\n",
    "from nltk import ne_chunk"
   ]
  },
  {
   "cell_type": "code",
   "execution_count": 0,
   "metadata": {
    "application/vnd.databricks.v1+cell": {
     "cellMetadata": {
      "byteLimit": 2048000,
      "rowLimit": 10000
     },
     "inputWidgets": {},
     "nuid": "cc35691b-59c1-4598-aa69-a90357a093b2",
     "showTitle": false,
     "title": ""
    }
   },
   "outputs": [
    {
     "output_type": "stream",
     "name": "stdout",
     "output_type": "stream",
     "text": [
      "Out[85]: ['Project',\n 'Gutenberg',\n 'eBook',\n 'Tale',\n 'Two',\n 'Cities,',\n 'Charles',\n 'Dickens',\n 'eBook',\n 'use',\n 'anyone',\n 'anywhere',\n 'United',\n 'States',\n 'parts',\n 'world',\n 'cost',\n 'almost',\n 'restrictions',\n 'whatsoever.',\n 'may',\n 'copy',\n 'it,',\n 'give',\n 'away',\n 're-use',\n 'terms',\n 'Project',\n 'Gutenberg',\n 'License',\n 'included',\n 'eBook',\n 'online',\n 'www.gutenberg.org.',\n 'located',\n 'United',\n 'States,',\n 'check',\n 'laws',\n 'country',\n 'located',\n 'using',\n 'eBook.',\n 'Title:',\n 'Tale',\n 'Two',\n 'Cities',\n 'Story',\n 'French',\n 'Revolution',\n 'Author:',\n 'Charles',\n 'Dickens',\n 'Release',\n 'Date:',\n 'January,',\n '1994',\n '[eBook',\n '#98]',\n '[Most',\n 'recently',\n 'updated:',\n 'December',\n '20,',\n '2020]',\n 'Language:',\n 'English',\n 'Character',\n 'set',\n 'encoding:',\n 'UTF-8',\n 'Produced',\n 'by:',\n 'Judith',\n 'Boss',\n 'David',\n 'Widger',\n '***',\n 'START',\n 'PROJECT',\n 'GUTENBERG',\n 'EBOOK',\n 'TALE',\n 'TWO',\n 'CITIES',\n '***',\n 'TALE',\n 'TWO',\n 'CITIES',\n 'STORY',\n 'FRENCH',\n 'REVOLUTION',\n 'Charles',\n 'Dickens',\n 'CONTENTS',\n 'Book',\n 'First--Recalled',\n 'Life',\n 'CHAPTER',\n 'Period',\n 'CHAPTER',\n 'II',\n 'Mail',\n 'CHAPTER',\n 'III',\n 'Night',\n 'Shadows',\n 'CHAPTER',\n 'IV',\n 'Preparation',\n 'CHAPTER',\n 'V',\n 'Wine-shop',\n 'CHAPTER',\n 'VI',\n 'Shoemaker',\n 'Book',\n 'Second--the',\n 'Golden',\n 'Thread',\n 'CHAPTER',\n 'Five',\n 'Years',\n 'Later',\n 'CHAPTER',\n 'II',\n 'Sight',\n 'CHAPTER',\n 'III',\n 'Disappointment',\n 'CHAPTER',\n 'IV',\n 'Congratulatory',\n 'CHAPTER',\n 'V',\n 'Jackal',\n 'CHAPTER',\n 'VI',\n 'Hundreds',\n 'People',\n 'CHAPTER',\n 'VII',\n 'Monseigneur',\n 'Town',\n 'CHAPTER',\n 'VIII',\n 'Monseigneur',\n 'Country',\n 'CHAPTER',\n 'IX',\n 'Gorgon’s',\n 'Head',\n 'CHAPTER',\n 'X',\n 'Two',\n 'Promises',\n 'CHAPTER',\n 'XI',\n 'Companion',\n 'Picture',\n 'CHAPTER',\n 'XII',\n 'Fellow',\n 'Delicacy',\n 'CHAPTER',\n 'XIII',\n 'Fellow',\n 'Delicacy',\n 'CHAPTER',\n 'XIV',\n 'Honest',\n 'Tradesman',\n 'CHAPTER',\n 'XV',\n 'Knitting',\n 'CHAPTER',\n 'XVI',\n 'Still',\n 'Knitting',\n 'CHAPTER',\n 'XVII',\n 'One',\n 'Night',\n 'CHAPTER',\n 'XVIII',\n 'Nine',\n 'Days',\n 'CHAPTER',\n 'XIX',\n 'Opinion',\n 'CHAPTER',\n 'XX',\n 'Plea',\n 'CHAPTER',\n 'XXI',\n 'Echoing',\n 'Footsteps',\n 'CHAPTER',\n 'XXII',\n 'Sea',\n 'Still',\n 'Rises',\n 'CHAPTER',\n 'XXIII',\n 'Fire',\n 'Rises',\n 'CHAPTER',\n 'XXIV',\n 'Drawn',\n 'Loadstone',\n 'Rock',\n 'Book',\n 'Third--the',\n 'Track',\n 'Storm',\n 'CHAPTER',\n 'Secret',\n 'CHAPTER',\n 'II',\n 'Grindstone',\n 'CHAPTER',\n 'III',\n 'Shadow',\n 'CHAPTER',\n 'IV',\n 'Calm',\n 'Storm',\n 'CHAPTER',\n 'V',\n 'Wood-sawyer',\n 'CHAPTER',\n 'VI',\n 'Triumph',\n 'CHAPTER',\n 'VII',\n 'Knock',\n 'Door',\n 'CHAPTER',\n 'VIII',\n 'Hand',\n 'Cards',\n 'CHAPTER',\n 'IX',\n 'Game',\n 'Made',\n 'CHAPTER',\n 'X',\n 'Substance',\n 'Shadow',\n 'CHAPTER',\n 'XI',\n 'Dusk',\n 'CHAPTER',\n 'XII',\n 'Darkness',\n 'CHAPTER',\n 'XIII',\n 'Fifty-two',\n 'CHAPTER',\n 'XIV',\n 'Knitting',\n 'Done',\n 'CHAPTER',\n 'XV',\n 'Footsteps',\n 'Die',\n 'Ever',\n 'Book',\n 'First--Recalled',\n 'Life',\n 'CHAPTER',\n 'I.',\n 'Period',\n 'best',\n 'times,',\n 'worst',\n 'times,',\n 'age',\n 'wisdom,',\n 'age',\n 'foolishness,',\n 'epoch',\n 'belief,',\n 'epoch',\n 'incredulity,',\n 'season',\n 'Light,',\n 'season',\n 'Darkness,',\n 'spring',\n 'hope,',\n 'winter',\n 'despair,',\n 'everything',\n 'us,',\n 'nothing',\n 'us,',\n 'going',\n 'direct',\n 'Heaven,',\n 'going',\n 'direct',\n 'way--in',\n 'short,',\n 'period',\n 'far',\n 'like',\n 'present',\n 'period,',\n 'noisiest',\n 'authorities',\n 'insisted',\n 'received,',\n 'good',\n 'evil,',\n 'superlative',\n 'degree',\n 'comparison',\n 'only.',\n 'king',\n 'large',\n 'jaw',\n 'queen',\n 'plain',\n 'face,',\n 'throne',\n 'England;',\n 'king',\n 'large',\n 'jaw',\n 'queen',\n 'fair',\n 'face,',\n 'throne',\n 'France.',\n 'countries',\n 'clearer',\n 'crystal',\n 'lords',\n 'State',\n 'preserves',\n 'loaves',\n 'fishes,',\n 'things',\n 'general',\n 'settled',\n 'ever.',\n 'year',\n 'Lord',\n 'one',\n 'thousand',\n 'seven',\n 'hundred',\n 'seventy-five.',\n 'Spiritual',\n 'revelations',\n 'conceded',\n 'England',\n 'favoured',\n 'period,',\n 'this.',\n 'Mrs.',\n 'Southcott',\n 'recently',\n 'attained',\n 'five-and-twentieth',\n 'blessed',\n 'birthday,',\n 'prophetic',\n 'private',\n 'Life',\n 'Guards',\n 'heralded',\n 'sublime',\n 'appearance',\n 'announcing',\n 'arrangements',\n 'made',\n 'swallowing',\n 'London',\n 'Westminster.',\n 'Even',\n 'Cock-lane',\n 'ghost',\n 'laid',\n 'round',\n 'dozen',\n 'years,',\n 'rapping',\n 'messages,',\n 'spirits',\n 'year',\n 'last',\n 'past',\n '(supernaturally',\n 'deficient',\n 'originality)',\n 'rapped',\n 'theirs.',\n 'Mere',\n 'messages',\n 'earthly',\n 'order',\n 'events',\n 'lately',\n 'come',\n 'English',\n 'Crown',\n 'People,',\n 'congress',\n 'British',\n 'subjects',\n 'America:',\n 'which,',\n 'strange',\n 'relate,',\n 'proved',\n 'important',\n 'human',\n 'race',\n 'communications',\n 'yet',\n 'received',\n 'chickens',\n 'Cock-lane',\n 'brood.',\n 'France,',\n 'less',\n 'favoured',\n 'whole',\n 'matters',\n 'spiritual',\n 'sister',\n 'shield',\n 'trident,',\n 'rolled',\n 'exceeding',\n 'smoothness',\n 'hill,',\n 'making',\n 'paper',\n 'money',\n 'spending',\n 'it.',\n 'guidance',\n 'Christian',\n 'pastors,',\n 'entertained',\n 'herself,',\n 'besides,',\n 'humane',\n 'achievements',\n 'sentencing',\n 'youth',\n 'hands',\n 'cut',\n 'off,',\n 'tongue',\n 'torn',\n 'pincers,',\n 'body',\n 'burned',\n 'alive,',\n 'kneeled',\n 'rain',\n 'honour',\n 'dirty',\n 'procession',\n 'monks',\n 'passed',\n 'within',\n 'view,',\n 'distance',\n 'fifty',\n 'sixty',\n 'yards.',\n 'likely',\n 'enough',\n 'that,',\n 'rooted',\n 'woods',\n 'France',\n 'Norway,',\n 'growing',\n 'trees,',\n 'sufferer',\n 'put',\n 'death,',\n 'already',\n 'marked',\n 'Woodman,',\n 'Fate,',\n 'come',\n 'sawn',\n 'boards,',\n 'make',\n 'certain',\n 'movable',\n 'framework',\n 'sack',\n 'knife',\n 'it,',\n 'terrible',\n 'history.',\n 'likely',\n 'enough',\n 'rough',\n 'outhouses',\n 'tillers',\n 'heavy',\n 'lands',\n 'adjacent',\n 'Paris,',\n 'sheltered',\n 'weather',\n 'day,',\n 'rude',\n 'carts,',\n 'bespattered',\n 'rustic',\n 'mire,',\n 'snuffed',\n 'pigs,',\n 'roosted',\n 'poultry,',\n 'Farmer,',\n 'Death,',\n 'already',\n 'set',\n 'apart',\n 'tumbrils',\n 'Revolution.',\n 'Woodman',\n 'Farmer,',\n 'though',\n 'work',\n 'unceasingly,',\n 'work',\n 'silently,',\n 'one',\n 'heard',\n 'went',\n 'muffled',\n 'tread:',\n 'rather,',\n 'forasmuch',\n 'entertain',\n 'suspicion',\n 'awake,',\n 'atheistical',\n 'traitorous.',\n 'England,',\n 'scarcely',\n 'amount',\n 'order',\n 'protection',\n 'justify',\n 'much',\n 'national',\n 'boasting.',\n 'Daring',\n 'burglaries',\n 'armed',\n 'men,',\n 'highway',\n 'robberies,',\n 'took',\n 'place',\n 'capital',\n 'every',\n 'night;',\n 'families',\n 'publicly',\n 'cautioned',\n 'go',\n 'town',\n 'without',\n 'removing',\n 'furniture',\n 'upholsterers’',\n 'warehouses',\n 'security;',\n 'highwayman',\n 'dark',\n 'City',\n 'tradesman',\n 'light,',\n 'and,',\n 'recognised',\n 'challenged',\n 'fellow-tradesman',\n 'stopped',\n 'character',\n '“the',\n 'Captain,”',\n 'gallantly',\n 'shot',\n 'head',\n 'rode',\n 'away;',\n 'mail',\n 'waylaid',\n 'seven',\n 'robbers,',\n 'guard',\n 'shot',\n 'three',\n 'dead,',\n 'got',\n 'shot',\n 'dead',\n 'four,',\n '“in',\n 'consequence',\n 'failure',\n 'ammunition:”',\n 'mail',\n 'robbed',\n 'peace;',\n 'magnificent',\n 'potentate,',\n 'Lord',\n 'Mayor',\n 'London,',\n 'made',\n 'stand',\n 'deliver',\n 'Turnham',\n 'Green,',\n 'one',\n 'highwayman,',\n 'despoiled',\n 'illustrious',\n 'creature',\n 'sight',\n 'retinue;',\n 'prisoners',\n 'London',\n 'gaols',\n 'fought',\n 'battles',\n 'turnkeys,',\n 'majesty',\n 'law',\n 'fired',\n 'blunderbusses',\n 'among',\n 'them,',\n 'loaded',\n 'rounds',\n 'shot',\n 'ball;',\n 'thieves',\n 'snipped',\n 'diamond',\n 'crosses',\n 'necks',\n 'noble',\n 'lords',\n 'Court',\n 'drawing-rooms;',\n 'musketeers',\n 'went',\n 'St.',\n 'Giles’s,',\n 'search',\n 'contraband',\n 'goods,',\n 'mob',\n 'fired',\n 'musketeers,',\n 'musketeers',\n 'fired',\n 'mob,',\n 'nobody',\n 'thought',\n 'occurrences',\n 'much',\n 'common',\n 'way.',\n 'midst',\n 'them,',\n 'hangman,',\n 'ever',\n 'busy',\n 'ever',\n 'worse',\n 'useless,',\n 'constant',\n 'requisition;',\n 'now,',\n 'stringing',\n 'long',\n 'rows',\n 'miscellaneous',\n 'criminals;',\n 'now,',\n 'hanging',\n 'housebreaker',\n 'Saturday',\n 'taken',\n 'Tuesday;',\n 'now,',\n 'burning',\n 'people',\n 'hand',\n 'Newgate',\n 'dozen,',\n 'burning',\n 'pamphlets',\n 'door',\n 'Westminster',\n 'Hall;',\n 'to-day,',\n 'taking',\n 'life',\n 'atrocious',\n 'murderer,',\n 'to-morrow',\n 'wretched',\n 'pilferer',\n 'robbed',\n 'farmer’s',\n 'boy',\n 'sixpence.',\n 'things,',\n 'thousand',\n 'like',\n 'them,',\n 'came',\n 'pass',\n 'close',\n 'upon',\n 'dear',\n 'old',\n 'year',\n 'one',\n 'thousand',\n 'seven',\n 'hundred',\n 'seventy-five.',\n 'Environed',\n 'them,',\n 'Woodman',\n 'Farmer',\n 'worked',\n 'unheeded,',\n 'two',\n 'large',\n 'jaws,',\n 'two',\n 'plain',\n 'fair',\n 'faces,',\n 'trod',\n 'stir',\n 'enough,',\n 'carried',\n 'divine',\n 'rights',\n 'high',\n 'hand.',\n 'Thus',\n 'year',\n 'one',\n 'thousand',\n 'seven',\n 'hundred',\n 'seventy-five',\n 'conduct',\n 'Greatnesses,',\n 'myriads',\n 'small',\n 'creatures--the',\n 'creatures',\n 'chronicle',\n 'among',\n 'rest--along',\n 'roads',\n 'lay',\n 'them.',\n 'CHAPTER',\n 'II.',\n 'Mail',\n 'Dover',\n 'road',\n 'lay,',\n 'Friday',\n 'night',\n 'late',\n 'November,',\n 'first',\n 'persons',\n 'history',\n 'business.',\n 'Dover',\n 'road',\n 'lay,',\n 'him,',\n 'beyond',\n 'Dover',\n 'mail,',\n 'lumbered',\n 'Shooter’s',\n 'Hill.',\n 'walked',\n 'hill',\n 'mire',\n 'side',\n 'mail,',\n 'rest',\n 'passengers',\n 'did;',\n 'least',\n 'relish',\n 'walking',\n 'exercise,',\n 'circumstances,',\n 'hill,',\n 'harness,',\n 'mud,',\n 'mail,',\n 'heavy,',\n 'horses',\n 'three',\n 'times',\n 'already',\n 'come',\n 'stop,',\n 'besides',\n 'drawing',\n 'coach',\n 'across',\n 'road,',\n 'mutinous',\n 'intent',\n 'taking',\n 'back',\n 'Blackheath.',\n 'Reins',\n 'whip',\n 'coachman',\n 'guard,',\n 'however,',\n 'combination,',\n 'read',\n 'article',\n 'war',\n 'forbade',\n 'purpose',\n 'otherwise',\n 'strongly',\n 'favour',\n 'argument,',\n 'brute',\n 'animals',\n 'endued',\n 'Reason;',\n 'team',\n 'capitulated',\n 'returned',\n 'duty.',\n 'drooping',\n 'heads',\n 'tremulous',\n 'tails,',\n 'mashed',\n 'way',\n 'thick',\n 'mud,',\n 'floundering',\n 'stumbling',\n 'whiles,',\n 'falling',\n 'pieces',\n 'larger',\n 'joints.',\n 'often',\n 'driver',\n 'rested',\n 'brought',\n 'stand,',\n 'wary',\n '“Wo-ho!',\n 'so-ho-then!”',\n 'near',\n 'leader',\n 'violently',\n 'shook',\n 'head',\n 'everything',\n 'upon',\n 'it--like',\n 'unusually',\n 'emphatic',\n 'horse,',\n 'denying',\n 'coach',\n 'could',\n 'got',\n 'hill.',\n 'Whenever',\n 'leader',\n 'made',\n 'rattle,',\n 'passenger',\n 'started,',\n 'nervous',\n 'passenger',\n 'might,',\n 'disturbed',\n 'mind.',\n 'steaming',\n 'mist',\n 'hollows,',\n 'roamed',\n 'forlornness',\n 'hill,',\n 'like',\n 'evil',\n 'spirit,',\n 'seeking',\n 'rest',\n 'finding',\n 'none.',\n 'clammy',\n 'intensely',\n 'cold',\n 'mist,',\n 'made',\n 'slow',\n 'way',\n 'air',\n 'ripples',\n 'visibly',\n 'followed',\n 'overspread',\n 'one',\n 'another,',\n 'waves',\n 'unwholesome',\n 'sea',\n 'might',\n 'do.',\n 'dense',\n 'enough',\n 'shut',\n 'everything',\n 'light',\n 'coach-lamps',\n 'workings,',\n 'yards',\n 'road;',\n 'reek',\n 'labouring',\n 'horses',\n 'steamed',\n 'it,',\n 'made',\n 'all.',\n 'Two',\n 'passengers,',\n 'besides',\n 'one,',\n 'plodding',\n 'hill',\n 'side',\n 'mail.',\n 'three',\n 'wrapped',\n 'cheekbones',\n 'ears,',\n 'wore',\n 'jack-boots.',\n 'one',\n 'three',\n 'could',\n 'said,',\n 'anything',\n 'saw,',\n 'either',\n 'two',\n 'like;',\n 'hidden',\n 'almost',\n 'many',\n 'wrappers',\n 'eyes',\n 'mind,',\n 'eyes',\n 'body,',\n 'two',\n 'companions.',\n 'days,',\n 'travellers',\n 'shy',\n 'confidential',\n 'short',\n 'notice,',\n 'anybody',\n ...]"
     ]
    }
   ],
   "source": [
    "tales_without_sw=tale_of_two_cities_no_space.filter(lambda x:x.lower() not in stopwords.words(\"english\"))\n",
    "tales_without_sw.collect()"
   ]
  },
  {
   "cell_type": "code",
   "execution_count": 0,
   "metadata": {
    "application/vnd.databricks.v1+cell": {
     "cellMetadata": {
      "byteLimit": 2048000,
      "rowLimit": 10000
     },
     "inputWidgets": {},
     "nuid": "a1f89999-74c2-49cc-a772-75f58af7ebd5",
     "showTitle": false,
     "title": ""
    }
   },
   "outputs": [
    {
     "output_type": "stream",
     "name": "stdout",
     "output_type": "stream",
     "text": [
      "Out[86]: pyspark.rdd.PipelinedRDD"
     ]
    }
   ],
   "source": [
    "type(tales_without_sw)"
   ]
  },
  {
   "cell_type": "code",
   "execution_count": 0,
   "metadata": {
    "application/vnd.databricks.v1+cell": {
     "cellMetadata": {
      "byteLimit": 2048000,
      "rowLimit": 10000
     },
     "inputWidgets": {},
     "nuid": "e95e6a87-440c-476f-81c4-48fbc3d28360",
     "showTitle": false,
     "title": ""
    }
   },
   "outputs": [],
   "source": [
    "tales_processed_data=tales_without_sw.map(lambda tokens: ne_chunk(pos_tag([tokens])))"
   ]
  },
  {
   "cell_type": "code",
   "execution_count": 0,
   "metadata": {
    "application/vnd.databricks.v1+cell": {
     "cellMetadata": {
      "byteLimit": 2048000,
      "rowLimit": 10000
     },
     "inputWidgets": {},
     "nuid": "363f52b6-b194-43f1-b6c0-38ec7ae31358",
     "showTitle": false,
     "title": ""
    }
   },
   "outputs": [
    {
     "output_type": "stream",
     "name": "stdout",
     "output_type": "stream",
     "text": [
      "Out[88]: pyspark.rdd.PipelinedRDD"
     ]
    }
   ],
   "source": [
    "type(tales_processed_data)"
   ]
  },
  {
   "cell_type": "code",
   "execution_count": 0,
   "metadata": {
    "application/vnd.databricks.v1+cell": {
     "cellMetadata": {
      "byteLimit": 2048000,
      "rowLimit": 10000
     },
     "inputWidgets": {},
     "nuid": "a3f7556c-bb37-4df9-8137-d549f27e0487",
     "showTitle": false,
     "title": ""
    }
   },
   "outputs": [
    {
     "output_type": "stream",
     "name": "stdout",
     "output_type": "stream",
     "text": [
      "Out[89]: [Tree('S', [Tree('GPE', [('Project', 'NN')])]),\n Tree('S', [Tree('GPE', [('Gutenberg', 'NNP')])]),\n Tree('S', [Tree('GPE', [('eBook', 'NN')])]),\n Tree('S', [Tree('GPE', [('Tale', 'NN')])]),\n Tree('S', [('Two', 'CD')]),\n Tree('S', [('Cities,', 'NN')]),\n Tree('S', [Tree('PERSON', [('Charles', 'NNP')])]),\n Tree('S', [('Dickens', 'NNS')]),\n Tree('S', [Tree('GPE', [('eBook', 'NN')])]),\n Tree('S', [('use', 'NN')])]"
     ]
    }
   ],
   "source": [
    "tales_processed_data.take(10)"
   ]
  },
  {
   "cell_type": "code",
   "execution_count": 0,
   "metadata": {
    "application/vnd.databricks.v1+cell": {
     "cellMetadata": {
      "byteLimit": 2048000,
      "rowLimit": 10000
     },
     "inputWidgets": {},
     "nuid": "9d9582b8-e174-4af6-bb49-36ef6694d579",
     "showTitle": false,
     "title": ""
    }
   },
   "outputs": [
    {
     "output_type": "stream",
     "name": "stdout",
     "output_type": "stream",
     "text": [
      "Out[90]: [Tree('GPE', [('Project', 'NN')]),\n Tree('GPE', [('Gutenberg', 'NNP')]),\n Tree('GPE', [('eBook', 'NN')]),\n Tree('GPE', [('Tale', 'NN')]),\n ('Two', 'CD'),\n ('Cities,', 'NN'),\n Tree('PERSON', [('Charles', 'NNP')]),\n ('Dickens', 'NNS'),\n Tree('GPE', [('eBook', 'NN')]),\n ('use', 'NN')]"
     ]
    }
   ],
   "source": [
    "flattended_tales_data=tales_processed_data.flatMap(lambda x:x)\n",
    "flattended_tales_data.take(10)"
   ]
  },
  {
   "cell_type": "code",
   "execution_count": 0,
   "metadata": {
    "application/vnd.databricks.v1+cell": {
     "cellMetadata": {
      "byteLimit": 2048000,
      "rowLimit": 10000
     },
     "inputWidgets": {},
     "nuid": "d4af285d-880b-4964-b681-4c5c925b746f",
     "showTitle": false,
     "title": ""
    }
   },
   "outputs": [
    {
     "output_type": "stream",
     "name": "stdout",
     "output_type": "stream",
     "text": [
      "Out[99]: [('project', 1),\n ('gutenberg', 1),\n ('ebook', 1),\n ('tale', 1),\n ('charles', 1),\n ('ebook', 1),\n ('united', 1),\n ('project', 1),\n ('gutenberg', 1),\n ('license', 1),\n ('ebook', 1),\n ('united', 1),\n ('tale', 1),\n ('french', 1),\n ('charles', 1),\n ('release', 1),\n ('english', 1),\n ('judith', 1),\n ('david', 1),\n ('widger', 1),\n ('gutenberg', 1),\n ('ebook', 1),\n ('tale', 1),\n ('cities', 1),\n ('tale', 1),\n ('cities', 1),\n ('french', 1),\n ('revolution', 1),\n ('charles', 1),\n ('book', 1),\n ('life', 1),\n ('period', 1),\n ('mail', 1),\n ('iii', 1),\n ('night', 1),\n ('shoemaker', 1),\n ('book', 1),\n ('golden', 1),\n ('thread', 1),\n ('sight', 1),\n ('iii', 1),\n ('congratulatory', 1),\n ('jackal', 1),\n ('vii', 1),\n ('monseigneur', 1),\n ('town', 1),\n ('viii', 1),\n ('monseigneur', 1),\n ('country', 1),\n ('head', 1),\n ('picture', 1),\n ('xii', 1),\n ('fellow', 1),\n ('delicacy', 1),\n ('xiii', 1),\n ('fellow', 1),\n ('delicacy', 1),\n ('xiv', 1),\n ('honest', 1),\n ('tradesman', 1),\n ('xvi', 1),\n ('xvii', 1),\n ('night', 1),\n ('xviii', 1),\n ('nine', 1),\n ('xix', 1),\n ('opinion', 1),\n ('plea', 1),\n ('xxi', 1),\n ('xxii', 1),\n ('sea', 1),\n ('xxiii', 1),\n ('fire', 1),\n ('xxiv', 1),\n ('drawn', 1),\n ('loadstone', 1),\n ('rock', 1),\n ('book', 1),\n ('track', 1),\n ('storm', 1),\n ('grindstone', 1),\n ('iii', 1),\n ('shadow', 1),\n ('calm', 1),\n ('storm', 1),\n ('triumph', 1),\n ('vii', 1),\n ('knock', 1),\n ('door', 1),\n ('viii', 1),\n ('hand', 1),\n ('substance', 1),\n ('shadow', 1),\n ('dusk', 1),\n ('xii', 1),\n ('darkness', 1),\n ('xiii', 1),\n ('xiv', 1),\n ('done', 1),\n ('die', 1),\n ('book', 1),\n ('life', 1),\n ('period', 1),\n ('lord', 1),\n ('england', 1),\n ('southcott', 1),\n ('life', 1),\n ('london', 1),\n ('english', 1),\n ('crown', 1),\n ('british', 1),\n ('christian', 1),\n ('france', 1),\n ('woodman', 1),\n ('city', 1),\n ('lord', 1),\n ('turnham', 1),\n ('green,', 1),\n ('london', 1),\n ('st.', 1),\n ('newgate', 1),\n ('woodman', 1),\n ('farmer', 1),\n ('mail', 1),\n ('dover', 1),\n ('dover', 1),\n ('dover', 1),\n ('dover', 1),\n ('dover', 1),\n ('dover', 1),\n ('dover', 1),\n ('dover', 1),\n ('jarvis', 1),\n ('lorry', 1),\n ('bank', 1),\n ('paris', 1),\n ('dover', 1),\n ('jerry', 1),\n ('temple', 1),\n ('night', 1),\n ('death', 1),\n ('temple', 1),\n ('bank', 1),\n ('temple', 1),\n ('creator', 1),\n ('royal', 1),\n ('george', 1),\n ('hotel', 1),\n ('london', 1),\n ('show', 1),\n ('pull', 1),\n ('fetch', 1),\n ('stir', 1),\n ('concord', 1),\n ('royal', 1),\n ('concord', 1),\n ('bank', 1),\n ('lorry', 1),\n ('jarvis', 1),\n ('bank', 1),\n ('london', 1),\n ('tellson', 1),\n ('french', 1),\n ('english', 1),\n ('george', 1),\n ('house', 1),\n ('tellson', 1),\n ('company', 1),\n ('lorry', 1),\n ('dover', 1),\n ('small', 1),\n ('french', 1),\n ('lorry', 1),\n ('miss', 1),\n ('manette', 1),\n ('miss', 1),\n ('manette', 1),\n ('miss', 1),\n ('turkey', 1),\n ('miss', 1),\n ('manette', 1),\n ('sea', 1),\n ('miss', 1),\n ('lorry', 1),\n ('paris', 1),\n ('bank', 1),\n ('singular--and', 1),\n ('lorry', 1),\n ('english', 1),\n ('miss', 1),\n ('french', 1),\n ('monsieur', 1),\n ('monsieur', 1),\n ('french', 1),\n ('english', 1),\n ('french', 1),\n ('french', 1),\n ('lorry', 1),\n ('house', 1),\n ('house', 1),\n ('lorry', 1),\n ('monsieur', 1),\n ('manette', 1),\n ('doctor', 1),\n ('regard', 1),\n ('jarvis', 1),\n ('miss', 1),\n ('lorry', 1),\n ('ghost', 1),\n ('french', 1),\n ('miss', 1),\n ('lorry', 1),\n ('grenadier', 1),\n ('stilton', 1),\n ('lorry', 1),\n ('miss', 1),\n ('manette', 1),\n ('providence', 1),\n ('jarvis', 1),\n ('lorry', 1),\n ('saint', 1),\n ('saint', 1),\n ('hunger', 1),\n ('hunger', 1),\n ('hunger', 1),\n ('hunger', 1),\n ('hunger', 1),\n ('hunger', 1),\n ('hunger', 1),\n ('france', 1),\n ('madame', 1),\n ('madame', 1),\n ('defarge', 1),\n ('madame', 1),\n ('madame', 1),\n ('defarge', 1),\n ('madame', 1),\n ('defarge', 1),\n ('monsieur', 1),\n ('defarge', 1),\n ('monsieur', 1),\n ('monsieur', 1),\n ('christian', 1),\n ('madame', 1),\n ('monsieur', 1),\n ('monsieur', 1),\n ('defarge', 1),\n ('christian', 1),\n ('madame', 1),\n ('monsieur', 1),\n ('christian', 1),\n ('madame', 1),\n ('defarge', 1),\n ('madame', 1),\n ('monsieur', 1),\n ('defarge', 1),\n ('monsieur', 1),\n ('monsieur', 1),\n ('defarge', 1),\n ('madame', 1),\n ('defarge', 1),\n ('jarvis', 1),\n ('lorry', 1),\n ('miss', 1),\n ('monsieur', 1),\n ('defarge', 1),\n ('monsieur', 1),\n ('defarge', 1),\n ('monsieur', 1),\n ('jarvis', 1),\n ('lorry', 1),\n ('lorry', 1),\n ('monsieur', 1),\n ('monsieur', 1),\n ('defarge', 1),\n ('long', 1),\n ('lorry', 1),\n ('monsieur', 1),\n ('lorry', 1),\n ('monsieur', 1),\n ('little', 1),\n ('lorry', 1),\n ('defarge', 1),\n ('french', 1),\n ('shoemaker', 1),\n ('monsieur', 1),\n ('lorry', 1),\n ('lorry', 1),\n ('monsieur', 1),\n ('show', 1),\n ('lorry', 1),\n ('hundred', 1),\n ('north', 1),\n ('hundred', 1),\n ('north', 1),\n ('defarge', 1),\n ('lorry', 1),\n ('lorry', 1),\n ('monsieur', 1),\n ('turns,', 1),\n ('lorry', 1),\n ('darkness', 1),\n ('defarge', 1),\n ('north', 1),\n ('tower', 1),\n ('was--and', 1),\n ('was--before', 1),\n ('north', 1),\n ('freedom', 1),\n ('home', 1),\n ('home', 1),\n ('england', 1),\n ('waste,', 1),\n ('france', 1),\n ('thank', 1),\n ('life', 1),\n ('lorry', 1),\n ('paris', 1),\n ('monsieur', 1),\n ('manette', 1),\n ('miss', 1),\n ('lorry', 1),\n ('defarge', 1),\n ('lorry', 1),\n ('monsieur', 1),\n ('defarge', 1),\n ('monsieur', 1),\n ('defarge', 1),\n ('lorry', 1),\n ('monsieur', 1),\n ('defarge', 1),\n ('lorry', 1),\n ('hundred', 1),\n ('north', 1),\n ('madame', 1),\n ('madame', 1),\n ('defarge', 1),\n ('in;--and', 1),\n ('defarge', 1),\n ('monsieur', 1),\n ('beneath', 1),\n ('jarvis', 1),\n ('book', 1),\n ('golden', 1),\n ('thread', 1),\n ('bank', 1),\n ('temple', 1),\n ('bar', 1),\n ('house', 1),\n ('house', 1),\n ('temple', 1),\n ('house', 1),\n ('temple', 1),\n ('bar', 1),\n ('abyssinia', 1),\n ('death', 1),\n ('temple', 1),\n ('bar', 1),\n ('cramped', 1),\n ('london', 1),\n ('tellson', 1),\n ('anno', 1),\n ('domini', 1),\n ('cruncher', 1),\n ('lord', 1),\n ('anna', 1),\n ('christian', 1),\n ('cruncher', 1),\n ('harlequin', 1),\n ('master', 1),\n ('cruncher', 1),\n ('name', 1),\n ('young', 1),\n ('wasn’t', 1),\n ('cruncher', 1),\n ('jerry', 1),\n ('cruncher', 1),\n ('temple', 1),\n ('cruncher', 1),\n ('bar', 1),\n ('jerry', 1),\n ('jerry', 1),\n ('father', 1),\n ('jerry', 1),\n ('jerry', 1),\n ('jerry', 1),\n ('sight', 1),\n ('bailey', 1),\n ('jerry', 1),\n ('jerry', 1),\n ('newgate', 1),\n ('lord', 1),\n ('chief', 1),\n ('bailey', 1),\n ('bailey', 1),\n ('jerry', 1),\n ('cruncher', 1),\n ('treason', 1),\n ('jerry', 1),\n ('lorry', 1),\n ('cruncher', 1),\n ('jerry', 1),\n ('eager', 1),\n ('jerry', 1),\n ('silence', 1),\n ('charles', 1),\n ('darnay', 1),\n ('guilty', 1),\n ('lord', 1),\n ('french', 1),\n ('french', 1),\n ('french', 1),\n ('lewis', 1),\n ('canada', 1),\n ('north', 1),\n ('charles', 1),\n ('crowds', 1),\n ('france', 1),\n ('chief', 1),\n ('privy', 1),\n ('greece', 1),\n ('british', 1),\n ('john', 1),\n ('distant', 1),\n ('might', 1),\n ('swear', 1),\n ('knew', 1),\n ('swear', 1),\n ('none', 1),\n ('roger', 1),\n ('calais', 1),\n ('french', 1),\n ('french', 1),\n ('calais', 1),\n ('jarvis', 1),\n ('jarvis', 1),\n ('london', 1),\n ('dover', 1),\n ('france', 1),\n ('french', 1),\n ('french', 1),\n ('miss', 1),\n ('france', 1),\n ('england', 1),\n ('miss', 1),\n ('george', 1),\n ('washington', 1),\n ('george', 1),\n ('george', 1),\n ('doctor', 1),\n ('doctor', 1),\n ('london', 1),\n ('dover', 1),\n ('lord', 1),\n ('lord', 1),\n ('stryver', 1),\n ('carton', 1),\n ('stryver', 1),\n ('cruncher', 1),\n ('stryver', 1),\n ('french', 1),\n ('george', 1),\n ('lord', 1),\n ('bench', 1),\n ('stryver', 1),\n ('cruncher', 1),\n ('stryver', 1),\n ('barsad', 1),\n ('cly', 1),\n ('lord', 1),\n ('lord', 1),\n ('cruncher', 1),\n ('carton', 1),\n ('miss', 1),\n ('help', 1),\n ('lord', 1),\n ('george', 1),\n ('washington', 1),\n ('temple', 1),\n ('bar', 1),\n ('jerry', 1),\n ('carton', 1),\n ('lorry', 1),\n ('lorry', 1),\n ('carton', 1),\n ('jerry', 1),\n ('miss', 1),\n ('jerry', 1),\n ('lorry', 1),\n ('lorry', 1),\n ('congratulatory', 1),\n ('doctor', 1),\n ('lucie', 1),\n ('charles', 1),\n ('doctor', 1),\n ('bastille', 1),\n ('past', 1),\n ('darnay', 1),\n ('lorry', 1),\n ('lorry', 1),\n ('doctor', 1),\n ('miss', 1),\n ('lucie', 1),\n ('darnay', 1),\n ('speak', 1),\n ('miss', 1),\n ('lucie', 1),\n ('manette', 1),\n ('stryver', 1),\n ('lorry', 1),\n ('darnay', 1),\n ('men', 1),\n ('darnay', 1),\n ('nobody', 1),\n ('lorry', 1),\n ('house', 1),\n ('_i_', 1),\n ('bless', 1),\n ('_i_', 1),\n ('darnay', 1),\n ('lorry', 1),\n ('charles', 1),\n ('charles', 1),\n ('darnay', 1),\n ('carton', 1),\n ('double', 1),\n ('charles', 1),\n ('darnay', 1),\n ('carton', 1),\n ('carton', 1),\n ('darnay', 1),\n ('darnay', 1),\n ('carton', 1),\n ('darnay', 1),\n ('charles', 1),\n ('darnay', 1),\n ('carton', 1),\n ('change', 1),\n ('jackal', 1),\n ('bacchanalian', 1),\n ('stryver', 1),\n ('bailey', 1),\n ('lord', 1),\n ('chief', 1),\n ('stryver', 1),\n ('stryver', 1),\n ('sydney', 1),\n ('sydney', 1),\n ('term', 1),\n ('stryver', 1),\n ('carton', 1),\n ('carton', 1),\n ('sydney', 1),\n ('carton', 1),\n ('stryver', 1),\n ('ten', 1),\n ('stryver', 1),\n ('stryver', 1),\n ('stryver', 1),\n ('stryver', 1),\n ('fire', 1),\n ('sydney', 1),\n ('carton', 1),\n ('shrewsbury', 1),\n ('sydney', 1),\n ('carton', 1),\n ('shrewsbury', 1),\n ('school', 1),\n ('french', 1),\n ('french', 1),\n ('turn', 1),\n ('pledge', 1),\n ('miss', 1),\n ('bailey', 1),\n ('waste', 1),\n ('hope', 1),\n ('doctor', 1),\n ('manette', 1),\n ('jarvis', 1),\n ('lorry', 1),\n ('clerkenwell', 1),\n ('lorry', 1),\n ('lorry', 1),\n ('doctor', 1),\n ('doctor', 1),\n ('soho', 1),\n ('doctor', 1),\n ('doctor', 1),\n ('manette', 1),\n ('jarvis', 1),\n ('manette', 1),\n ('lucie', 1),\n ('pross', 1),\n ('miss', 1),\n ('simple', 1),\n ('lorry', 1),\n ('saint', 1),\n ('antoine', 1),\n ('miss', 1),\n ('royal', 1),\n ('george', 1),\n ('hotel', 1),\n ('lorry', 1),\n ('miss', 1),\n ('lorry', 1),\n ('miss', 1),\n ('miss', 1),\n ('miss', 1),\n ('miss', 1),\n ('miss', 1),\n ('miss', 1),\n ('miss', 1),\n ('lorry', 1),\n ('miss', 1),\n ('miss', 1),\n ('wasn’t', 1),\n ('doctor', 1),\n ('lorry', 1),\n ('miss', 1),\n ('pross', 1),\n ('miss', 1),\n ('pross', 1),\n ('nature', 1),\n ('miss', 1),\n ('miss', 1),\n ('solomon', 1),\n ('miss', 1),\n ('solomon', 1),\n ('miss', 1),\n ('miss', 1),\n ('lorry', 1),\n ('miss', 1),\n ('pross', 1),\n ('miss', 1),\n ('lorry', 1),\n ('doctor', 1),\n ('manette', 1),\n ('ladybird', 1),\n ('miss', 1),\n ('pross', 1),\n ('lorry', 1),\n ('doctor', 1),\n ('miss', 1),\n ('miss', 1),\n ('lorry', 1),\n ('miss', 1),\n ('doctor', 1),\n ('manette', 1),\n ('miss', 1),\n ('ladybird', 1),\n ('miss', 1),\n ('miss', 1),\n ('lorry', 1),\n ('miss', 1),\n ('pross', 1),\n ('miss', 1),\n ('pross', 1),\n ('miss', 1),\n ('doctor', 1),\n ('miss', 1),\n ('pross', 1),\n ('miss', 1),\n ('pross', 1),\n ('lorry', 1),\n ('lorry', 1),\n ('miss', 1),\n ('miss', 1),\n ('pross', 1),\n ('english', 1),\n ('miss', 1),\n ('soho', 1),\n ('miss', 1),\n ('pross', 1),\n ('ladybird', 1),\n ('miss', 1),\n ('lucie', 1),\n ('darnay', 1),\n ('doctor', 1),\n ('manette', 1),\n ('miss', 1),\n ('pross', 1),\n ('doctor', 1),\n ('lucie', 1),\n ('doctor', 1),\n ('lucie', 1),\n ('rain', 1),\n ('lorry', 1),\n ('charles', 1),\n ('lorry', 1),\n ('miss', 1),\n ('pross', 1),\n ('carton', 1),\n ('lucie', 1),\n ('darnay', 1),\n ('carton', 1),\n ('doctor', 1),\n ('sydney', 1),\n ('carton', 1),\n ('miss', 1),\n ('miss', 1),\n ('saint', 1),\n ('soho', 1),\n ('jerry', 1),\n ('shall', 1),\n ('monseigneur', 1),\n ('town', 1),\n ('monseigneur', 1),\n ('holiest', 1),\n ('monseigneur', 1),\n ('monseigneur', 1),\n ('chief', 1),\n ('monseigneur', 1),\n ('monseigneur', 1),\n ('comedy', 1),\n ('grand', 1),\n ('opera', 1),\n ('monseigneur', 1),\n ('comedy', 1),\n ('grand', 1),\n ('opera', 1),\n ('england', 1),\n ('stuart', 1),\n ('monseigneur', 1),\n ('monseigneur', 1),\n ('monseigneur', 1),\n ('monseigneur', 1),\n ('monseigneur', 1),\n ('hence', 1),\n ('monseigneur', 1),\n ('thirty', 1),\n ('monseigneur', 1),\n ('notre', 1),\n ('monseigneur', 1),\n ('babel', 1),\n ('exquisite', 1),\n ('peasant', 1),\n ('centre', 1),\n ('centre', 1),\n ('on--and', 1),\n ('monseigneur', 1),\n ('saint', 1),\n ('antoine', 1),\n ('dress', 1),\n ('fancy', 1),\n ('ball', 1),\n ('palace', 1),\n ('monseigneur', 1),\n ('fancy', 1),\n ('ball', 1),\n ('common', 1),\n ('monsieur', 1),\n ('monseigneur', 1),\n ('holiest', 1),\n ('monseigneur', 1),\n ('monseigneur', 1),\n ('circumference', 1),\n ('monseigneur', 1),\n ('monseigneur', 1),\n ('monsieur', 1),\n ('monsieur', 1),\n ('monsieur', 1),\n ('marquis', 1),\n ('monsieur', 1),\n ('monsieur', 1),\n ('marquis', 1),\n ('monsieur', 1),\n ('marquis', 1),\n ('monsieur', 1),\n ('defarge', 1),\n ('marquis', 1),\n ('grand', 1),\n ('fancy', 1),\n ('ball', 1),\n ('fancy', 1),\n ('fancy', 1),\n ('ball', 1),\n ('monseigneur', 1),\n ('country', 1),\n ('monsieur', 1),\n ('marquis', 1),\n ('monsieur', 1),\n ('marquis', 1),\n ('monsieur', 1),\n ('marquis', 1),\n ('round', 1),\n ('marquis', 1),\n ('death', 1),\n ('monsieur', 1),\n ('marquis', 1),\n ('english', 1),\n ('monsieur', 1),\n ('marquis', 1),\n ('monseigneur', 1),\n ('marquis', 1),\n ('paris', 1),\n ('devil', 1),\n ('monsieur', 1),\n ('monsieur', 1),\n ('monsieur', 1),\n ('gabelle', 1),\n ('monsieur', 1),\n ('monsieur', 1),\n ('cross', 1),\n ('saviour', 1),\n ('monseigneur', 1),\n ('monsieur', 1),\n ('marquis', 1),\n ('head', 1),\n ('monsieur', 1),\n ('monsieur', 1),\n ('monsieur', 1),\n ('marquis', 1),\n ('monsieur', 1),\n ('louis', 1),\n ('monseigneur', 1),\n ('bordeaux', 1),\n ('marquis', 1),\n ('monseigneur', 1),\n ('england', 1),\n ('charles', 1),\n ('monseigneur', 1),\n ('paris', 1),\n ('france', 1),\n ('pray', 1),\n ('france', 1),\n ('marquis', 1),\n ('marquis', 1),\n ('shall', 1),\n ('monsieur', 1),\n ('france', 1),\n ('france', 1),\n ('waste,', 1),\n ('marquis', 1),\n ('marquis', 1),\n ('“england', 1),\n ('refuge', 1),\n ('refuge', 1),\n ('doctor', 1),\n ('light', 1),\n ('monsieur', 1),\n ('monsieur', 1),\n ('monsieur', 1),\n ('marquis', 1),\n ('paris', 1),\n ('monsieur', 1),\n ('cross', 1),\n ('monsieur', 1),\n ('monsieur', 1),\n ('gabelle', 1),\n ('gabelle', 1),\n ('german', 1),\n ('gorgon', 1),\n ('monsieur', 1),\n ('round', 1),\n ('charles', 1),\n ('darnay', 1),\n ('england', 1),\n ('french', 1),\n ('french', 1),\n ('teacher', 1),\n ('darnay', 1),\n ('european', 1),\n ('greek', 1),\n ('latin', 1),\n ('lucie', 1),\n ('manette', 1),\n ('london', 1),\n ('doctor', 1),\n ('lucie', 1),\n ('miss', 1),\n ('doctor', 1),\n ('charles', 1),\n ('stryver', 1),\n ('sydney', 1),\n ('carton', 1),\n ('doctor', 1),\n ('lucie', 1),\n ('charles', 1),\n ('doctor', 1),\n ('charles', 1),\n ('darnay', 1),\n ('dear', 1),\n ('doctor', 1),\n ('doctor', 1),\n ('charles', 1),\n ('darnay', 1),\n ('doctor', 1),\n ('miss', 1),\n ('manette', 1),\n ('doctor', 1),\n ('doctor', 1),\n ('heaven', 1),\n ('doctor', 1),\n ('lucie', 1),\n ('charles', 1),\n ('lucie', 1),\n ('miss', 1),\n ('manette', 1),\n ('doctor', 1),\n ('charles', 1),\n ('lucie', 1),\n ('carton', 1),\n ('stryver', 1),\n ('miss', 1),\n ('manette', 1),\n ('doctor', 1),\n ('darnay', 1),\n ('doctor', 1),\n ('doctor', 1),\n ('doctor', 1),\n ('lucie', 1),\n ('charles', 1),\n ('darnay', 1),\n ('lucie', 1),\n ('miss', 1),\n ('pross', 1),\n ('picture', 1),\n ('sydney', 1),\n ('stryver', 1),\n ('sydney', 1),\n ('stryver', 1),\n ('romance', 1),\n ('sydney', 1),\n ('doctor', 1),\n ('sydney', 1),\n ('sydney', 1),\n ('sydney', 1),\n ('carton', 1),\n ('miss', 1),\n ('sydney', 1),\n ('carton', 1),\n ('miss', 1),\n ('manette', 1),\n ('way--and', 1),\n ('fellow', 1),\n ('delicacy', 1),\n ('stryver', 1),\n ('long', 1),\n ('michaelmas', 1),\n ('christmas', 1),\n ('stryver', 1),\n ('long', 1),\n ('vacation', 1),\n ('miss', 1),\n ('manette', 1),\n ('vauxhall', 1),\n ('stryver', 1),\n ('long', 1),\n ('anybody', 1),\n ('soho', 1),\n ('saint', 1),\n ('temple', 1),\n ('lorry', 1),\n ('lorry', 1),\n ('soho', 1),\n ('lorry', 1),\n ('house', 1),\n ('stryver', 1),\n ('lorry', 1),\n ('house', 1),\n ('tellson', 1),\n ('house', 1),\n ('miss', 1),\n ('lorry', 1),\n ('lorry', 1),\n ('lorry', 1),\n ('stryver', 1),\n ('stryver', 1),\n ('stryver', 1),\n ('soho', 1),\n ('stryver', 1),\n ('bench', 1),\n ('stryver', 1),\n ('miss', 1),\n ('manette', 1),\n ('miss', 1),\n ('manette', 1),\n ('myself--and', 1),\n ('thank', 1),\n ('doctor', 1),\n ('manette', 1),\n ('miss', 1),\n ('manette', 1),\n ('soho', 1),\n ('stryver', 1),\n ('temple', 1),\n ('bailey', 1),\n ('lorry', 1),\n ('lorry', 1),\n ('young', 1),\n ('lorry', 1),\n ('stryver', 1),\n ('lorry', 1),\n ('stryver', 1),\n ('fellow', 1),\n ('delicacy', 1),\n ('sydney', 1),\n ('carton', 1),\n ('doctor', 1),\n ('temple', 1),\n ...]"
     ]
    }
   ],
   "source": [
    "named_entities_lower = flattended_tales_data.flatMap(lambda tree: [entity[0].lower() for entity in tree if isinstance(entity, tuple)])\n",
    "named_entities_trial=named_entities_lower.map(lambda x:(x,1))\n",
    "named_entities_trial.collect()"
   ]
  },
  {
   "cell_type": "code",
   "execution_count": 0,
   "metadata": {
    "application/vnd.databricks.v1+cell": {
     "cellMetadata": {
      "byteLimit": 2048000,
      "rowLimit": 10000
     },
     "inputWidgets": {},
     "nuid": "7ae3f411-03f4-44bd-8a82-bcab3b8f0faa",
     "showTitle": false,
     "title": ""
    }
   },
   "outputs": [
    {
     "output_type": "stream",
     "name": "stdout",
     "output_type": "stream",
     "text": [
      "Out[101]: [('miss', 197),\n ('lorry', 158),\n ('doctor', 127),\n ('defarge', 127),\n ('madame', 125),\n ('monsieur', 93),\n ('project', 79),\n ('charles', 68),\n ('lucie', 62),\n ('darnay', 59),\n ('saint', 56),\n ('carton', 56),\n ('pross', 52),\n ('manette', 49),\n ('cruncher', 49),\n ('monseigneur', 47),\n ('sydney', 43),\n ('jacques', 42),\n ('jerry', 39),\n ('stryver', 38),\n ('french', 36),\n ('marquis', 30),\n ('english', 30),\n ('antoine', 27),\n ('gutenberg', 25),\n ('france', 25),\n ('young', 22),\n ('la', 22),\n ('jarvis', 19),\n ('paris', 19),\n ('house', 18),\n ('temple', 17),\n ('heaven', 17),\n ('united', 16),\n ('vengeance', 15),\n ('gabelle', 14),\n ('lord', 14),\n ('north', 14),\n ('citizen', 13),\n ('dover', 12),\n ('bastille', 12),\n ('england', 11),\n ('bank', 11),\n ('foulon', 11),\n ('bailey', 11),\n ('george', 10),\n ('license', 10),\n ('london', 10),\n ('long', 9),\n ('solomon', 9),\n ('barsad', 9),\n ('ebook', 8),\n ('evrémonde', 8),\n ('soho', 8),\n ('spy', 8),\n ('st.', 7),\n ('bar', 7),\n ('hunger', 7),\n ('hundred', 7),\n ('u.s.', 7),\n ('book', 6),\n ('guillotine', 6),\n ('christian', 6),\n ('death', 6),\n ('hotel', 6),\n ('tellson', 6),\n ('little', 6),\n ('cly', 6),\n ('_i_', 6),\n ('fire', 5),\n ('loadstone', 5),\n ('bench', 5),\n ('fancy', 5),\n ('sheep', 5),\n ('tale', 5),\n ('life', 5),\n ('darkness', 5),\n ('british', 5),\n ('ebooks', 5),\n ('night', 4),\n ('delicacy', 4),\n ('storm', 4),\n ('shadow', 4),\n ('chief', 4),\n ('roger', 4),\n ('cross', 4),\n ('lost.', 4),\n ('fellow', 4),\n ('royal', 4),\n ('thank', 4),\n ('ball', 4),\n ('royalty', 4),\n ('north,', 4),\n ('brutus', 4),\n ('iii', 3),\n ('sea', 3),\n ('john', 3),\n ('nobody', 3),\n ('change', 3),\n ('grand', 3),\n ('palace', 3),\n ('pray', 3),\n ('samson', 3),\n ('sainte', 3),\n ('jury', 3),\n ('alexandre', 3),\n ('cities', 3),\n ('nine', 3),\n ('rock', 3),\n ('city', 3),\n ('waste,', 3),\n ('ladybird', 3),\n ('devil', 3),\n ('dear', 3),\n ('eye', 3),\n ('ernest', 3),\n ('south', 3),\n ('frenchman', 3),\n ('period', 2),\n ('shoemaker', 2),\n ('jackal', 2),\n ('country', 2),\n ('head', 2),\n ('xiii', 2),\n ('xiv', 2),\n ('tradesman', 2),\n ('opinion', 2),\n ('plea', 2),\n ('grindstone', 2),\n ('substance', 2),\n ('die', 2),\n ('concord', 2),\n ('home', 2),\n ('father', 2),\n ('calais', 2),\n ('help', 2),\n ('speak', 2),\n ('school', 2),\n ('turn', 2),\n ('holiest', 2),\n ('comedy', 2),\n ('round', 2),\n ('refuge', 2),\n ('queen', 2),\n ('say', 2),\n ('razor', 2),\n ('spirit', 2),\n ('public', 2),\n ('conciergerie', 2),\n ('englishman', 2),\n ('fairy', 2),\n ('jacobin', 2),\n ('vanilla', 2),\n ('breach', 2),\n ('mail', 2),\n ('golden', 2),\n ('thread', 2),\n ('sight', 2),\n ('congratulatory', 2),\n ('vii', 2),\n ('town', 2),\n ('viii', 2),\n ('picture', 2),\n ('xii', 2),\n ('honest', 2),\n ('drawn', 2),\n ('track', 2),\n ('calm', 2),\n ('triumph', 2),\n ('knock', 2),\n ('door', 2),\n ('hand', 2),\n ('dusk', 2),\n ('done', 2),\n ('woodman', 2),\n ('newgate', 2),\n ('show', 2),\n ('pull', 2),\n ('freedom', 2),\n ('wasn’t', 2),\n ('eager', 2),\n ('might', 2),\n ('swear', 2),\n ('washington', 2),\n ('men', 2),\n ('bless', 2),\n ('bacchanalian', 2),\n ('shrewsbury', 2),\n ('hope', 2),\n ('shall', 2),\n ('opera', 2),\n ('notre', 2),\n ('centre', 2),\n ('louis', 2),\n ('light', 2),\n ('rome', 2),\n ('gaspard', 2),\n ('ville', 2),\n ('hall', 2),\n ('aristocrat', 2),\n ('confound', 2),\n ('citizeness', 2),\n ('seine', 2),\n ('forbid', 2),\n ('damages', 2),\n ('judith', 1),\n ('widger', 1),\n ('revolution', 1),\n ('xxi', 1),\n ('xxiv', 1),\n ('creator', 1),\n ('stir', 1),\n ('turkey', 1),\n ('regard', 1),\n ('ghost', 1),\n ('grenadier', 1),\n ('stilton', 1),\n ('tower', 1),\n ('was--before', 1),\n ('in;--and', 1),\n ('beneath', 1),\n ('cramped', 1),\n ('anno', 1),\n ('anna', 1),\n ('master', 1),\n ('name', 1),\n ('silence', 1),\n ('canada', 1),\n ('distant', 1),\n ('none', 1),\n ('past', 1),\n ('term', 1),\n ('ten', 1),\n ('pledge', 1),\n ('clerkenwell', 1),\n ('simple', 1),\n ('rain', 1),\n ('thirty', 1),\n ('on--and', 1),\n ('dress', 1),\n ('common', 1),\n ('circumference', 1),\n ('saviour', 1),\n ('bordeaux', 1),\n ('“england', 1),\n ('german', 1),\n ('gorgon', 1),\n ('european', 1),\n ('greek', 1),\n ('way--and', 1),\n ('michaelmas', 1),\n ('christmas', 1),\n ('vauxhall', 1),\n ('anybody', 1),\n ('myself--and', 1),\n ('trial', 1),\n ('izaak', 1),\n ('scientific', 1),\n ('behold', 1),\n ('confide', 1),\n ('eh', 1),\n ('jacquerie', 1),\n ('curious', 1),\n ('is--and', 1),\n ('“--and', 1),\n ('power', 1),\n ('warwickshire', 1),\n ('to--and', 1),\n ('night--and', 1),\n ('suffer', 1),\n ('haggard', 1),\n ('villain', 1),\n ('scanty', 1),\n ('far', 1),\n ('strange', 1),\n ('enemy', 1),\n ('evil', 1),\n ('heretofore', 1),\n ('tilson', 1),\n ('abbaye', 1),\n ('beauvais', 1),\n ('daylight', 1),\n ('room', 1),\n ('noon', 1),\n ('scripture', 1),\n ('pass', 1),\n ('goddess', 1),\n ('carmagnole', 1),\n ('midnight', 1),\n ('frustrate', 1),\n ('banking', 1),\n ('“command', 1),\n ('hide', 1),\n ('denounced--and', 1),\n ('pay', 1),\n ('denunciation', 1),\n ('ace', 1),\n ('spoke', 1),\n ('cow', 1),\n ('sir--and', 1),\n ('figure', 1),\n ('certain', 1),\n ('indictment', 1),\n ('denounced', 1),\n ('frantic', 1),\n ('hay', 1),\n ('brother--and', 1),\n ('thou', 1),\n ('rue', 1),\n ('celebration', 1),\n ('child’s--and', 1),\n ('dwell', 1),\n ('free', 1),\n ('twelve', 1),\n ('sounds', 1),\n ('barrier', 1),\n ('wot', 1),\n ('twopence', 1),\n ('child', 1),\n ('crush', 1),\n ('crash!--and', 1),\n ('fear', 1),\n ('universal', 1),\n ('use', 1),\n ('work', 1),\n ('full', 1),\n ('copyright', 1),\n ('contract', 1),\n ('paragraph', 1),\n ('agreement', 1),\n ('incidental', 1),\n ('refund', 1),\n ('mission', 1),\n ('mississippi', 1),\n ('revenue', 1),\n ('ein', 1),\n ('salt', 1),\n ('send', 1),\n ('michael', 1),\n ('hart', 1),\n ('release', 1),\n ('david', 1),\n ('xvi', 1),\n ('xvii', 1),\n ('xviii', 1),\n ('xix', 1),\n ('xxii', 1),\n ('xxiii', 1),\n ('southcott', 1),\n ('crown', 1),\n ('turnham', 1),\n ('green,', 1),\n ('farmer', 1),\n ('fetch', 1),\n ('company', 1),\n ('small', 1),\n ('singular--and', 1),\n ('providence', 1),\n ('turns,', 1),\n ('was--and', 1),\n ('abyssinia', 1),\n ('domini', 1),\n ('harlequin', 1),\n ('treason', 1),\n ('guilty', 1),\n ('lewis', 1),\n ('crowds', 1),\n ('privy', 1),\n ('greece', 1),\n ('knew', 1),\n ('double', 1),\n ('waste', 1),\n ('nature', 1),\n ('stuart', 1),\n ('hence', 1),\n ('babel', 1),\n ('exquisite', 1),\n ('peasant', 1),\n ('teacher', 1),\n ('latin', 1),\n ('romance', 1),\n ('vacation', 1),\n ('jeremiah', 1),\n ('brief', 1),\n ('drop', 1),\n ('rarity--and', 1),\n ('observant', 1),\n ('sustain', 1),\n ('destiny', 1),\n ('consolation', 1),\n ('earnestness', 1),\n ('divine', 1),\n ('slight', 1),\n ('_had_', 1),\n ('miscreant', 1),\n ('examination', 1),\n ('great', 1),\n ('southern', 1),\n ('prayer', 1),\n ('ah', 1),\n ('escort--and', 1),\n ('liberty', 1),\n ('emigrant', 1),\n ('germain', 1),\n ('bankruptcy', 1),\n ('false', 1),\n ('cheer', 1),\n ('blood', 1),\n ('greater', 1),\n ('soul', 1),\n ('paper', 1),\n ('indivisible', 1),\n ('majesty', 1),\n ('army', 1),\n ('woe', 1),\n ('hebrew', 1),\n ('chaldean', 1),\n ('struck', 1),\n ('inference', 1),\n ('thrown', 1),\n ('jack', 1),\n ('unseen', 1),\n ('word', 1),\n ('island', 1),\n ('creation', 1),\n ('loud', 1),\n ('street', 1),\n ('proud', 1),\n ('_god_', 1),\n ('wait', 1),\n ('promise', 1),\n ('reason--and', 1),\n ('physical', 1),\n ('great,', 1),\n ('hi', 1),\n ('ogre', 1),\n ('juryman', 1),\n ('wife', 1),\n ('sow', 1),\n ('arabian', 1),\n ('thérèse', 1),\n ('louder', 1),\n ('poverty', 1),\n ('distribute', 1),\n ('contact', 1),\n ('disclaimer', 1),\n ('strict', 1),\n ('warranty', 1),\n ('trademark', 1),\n ('liable', 1),\n ('express', 1),\n ('merchantability', 1),\n ('fitness', 1),\n ('indemnity', 1),\n ('defect', 1),\n ('email', 1),\n ('donations', 1)]"
     ]
    }
   ],
   "source": [
    "named_entities_trial.reduceByKey(lambda x,y:x+y).sortBy(lambda x:-x[1]).collect()"
   ]
  },
  {
   "cell_type": "code",
   "execution_count": 0,
   "metadata": {
    "application/vnd.databricks.v1+cell": {
     "cellMetadata": {},
     "inputWidgets": {},
     "nuid": "a705fe81-a94e-45ce-b560-4c6c493d6147",
     "showTitle": false,
     "title": ""
    }
   },
   "outputs": [],
   "source": []
  }
 ],
 "metadata": {
  "application/vnd.databricks.v1+notebook": {
   "dashboards": [],
   "language": "python",
   "notebookMetadata": {
    "pythonIndentUnit": 4
   },
   "notebookName": "Assignment 1 Part 1",
   "widgets": {}
  }
 },
 "nbformat": 4,
 "nbformat_minor": 0
}
